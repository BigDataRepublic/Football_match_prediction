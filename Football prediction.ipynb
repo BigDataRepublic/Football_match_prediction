{
 "cells": [
  {
   "cell_type": "markdown",
   "metadata": {},
   "source": [
    "# Read CSV"
   ]
  },
  {
   "cell_type": "code",
   "execution_count": 1,
   "metadata": {
    "collapsed": true
   },
   "outputs": [],
   "source": [
    "import pandas as pd\n",
    "import numpy as np"
   ]
  },
  {
   "cell_type": "markdown",
   "metadata": {},
   "source": [
    "# Italian league"
   ]
  },
  {
   "cell_type": "code",
   "execution_count": 2,
   "metadata": {
    "collapsed": false
   },
   "outputs": [],
   "source": [
    "#data = pd.read_csv(\"SerieA-B/Serie_A-B_stats.csv\")"
   ]
  },
  {
   "cell_type": "markdown",
   "metadata": {},
   "source": [
    "# Dutch league"
   ]
  },
  {
   "cell_type": "code",
   "execution_count": 3,
   "metadata": {
    "collapsed": false
   },
   "outputs": [],
   "source": [
    "import os\n",
    "data_folder = \"Eredivisie\"\n",
    "data_frames = []\n",
    "for data_file in os.listdir(data_folder):\n",
    "    if data_file[-4:] == \".csv\":\n",
    "        data_frames.append(pd.read_csv(os.path.join(data_folder,data_file)))\n",
    "        \n",
    "data = pd.concat(data_frames)"
   ]
  },
  {
   "cell_type": "code",
   "execution_count": 4,
   "metadata": {
    "collapsed": false
   },
   "outputs": [
    {
     "data": {
      "text/html": [
       "<div>\n",
       "<table border=\"1\" class=\"dataframe\">\n",
       "  <thead>\n",
       "    <tr style=\"text-align: right;\">\n",
       "      <th></th>\n",
       "      <th>AwayTeam</th>\n",
       "      <th>B365A</th>\n",
       "      <th>B365D</th>\n",
       "      <th>B365H</th>\n",
       "      <th>BSA</th>\n",
       "      <th>BSD</th>\n",
       "      <th>BSH</th>\n",
       "      <th>BWA</th>\n",
       "      <th>BWD</th>\n",
       "      <th>BWH</th>\n",
       "      <th>...</th>\n",
       "      <th>SJH</th>\n",
       "      <th>Unnamed: 58</th>\n",
       "      <th>Unnamed: 59</th>\n",
       "      <th>Unnamed: 60</th>\n",
       "      <th>VCA</th>\n",
       "      <th>VCD</th>\n",
       "      <th>VCH</th>\n",
       "      <th>WHA</th>\n",
       "      <th>WHD</th>\n",
       "      <th>WHH</th>\n",
       "    </tr>\n",
       "  </thead>\n",
       "  <tbody>\n",
       "    <tr>\n",
       "      <th>0</th>\n",
       "      <td>Feyenoord</td>\n",
       "      <td>2.1</td>\n",
       "      <td>3.4</td>\n",
       "      <td>3.4</td>\n",
       "      <td>1.91</td>\n",
       "      <td>3.5</td>\n",
       "      <td>3.75</td>\n",
       "      <td>1.91</td>\n",
       "      <td>3.5</td>\n",
       "      <td>3.4</td>\n",
       "      <td>...</td>\n",
       "      <td>3.4</td>\n",
       "      <td>NaN</td>\n",
       "      <td>NaN</td>\n",
       "      <td>NaN</td>\n",
       "      <td>1.95</td>\n",
       "      <td>3.5</td>\n",
       "      <td>3.75</td>\n",
       "      <td>1.83</td>\n",
       "      <td>3.5</td>\n",
       "      <td>3.75</td>\n",
       "    </tr>\n",
       "  </tbody>\n",
       "</table>\n",
       "<p>1 rows × 67 columns</p>\n",
       "</div>"
      ],
      "text/plain": [
       "    AwayTeam  B365A  B365D  B365H   BSA  BSD   BSH   BWA  BWD  BWH  ...   SJH  \\\n",
       "0  Feyenoord    2.1    3.4    3.4  1.91  3.5  3.75  1.91  3.5  3.4  ...   3.4   \n",
       "\n",
       "   Unnamed: 58  Unnamed: 59  Unnamed: 60   VCA  VCD   VCH   WHA  WHD   WHH  \n",
       "0          NaN          NaN          NaN  1.95  3.5  3.75  1.83  3.5  3.75  \n",
       "\n",
       "[1 rows x 67 columns]"
      ]
     },
     "execution_count": 4,
     "metadata": {},
     "output_type": "execute_result"
    }
   ],
   "source": [
    "data.head(1)"
   ]
  },
  {
   "cell_type": "markdown",
   "metadata": {},
   "source": [
    "# Set Index"
   ]
  },
  {
   "cell_type": "code",
   "execution_count": 5,
   "metadata": {
    "collapsed": false
   },
   "outputs": [],
   "source": [
    "data['Date'] = pd.to_datetime(data['Date'], format='%d/%m/%y')\n",
    "all_data = data.set_index('Date')"
   ]
  },
  {
   "cell_type": "markdown",
   "metadata": {},
   "source": [
    "# Select features"
   ]
  },
  {
   "cell_type": "code",
   "execution_count": 10,
   "metadata": {
    "collapsed": false
   },
   "outputs": [
    {
     "data": {
      "text/html": [
       "<div>\n",
       "<table border=\"1\" class=\"dataframe\">\n",
       "  <thead>\n",
       "    <tr style=\"text-align: right;\">\n",
       "      <th></th>\n",
       "      <th>HomeTeam</th>\n",
       "      <th>AwayTeam</th>\n",
       "      <th>FTR</th>\n",
       "      <th>FTHG</th>\n",
       "      <th>FTAG</th>\n",
       "    </tr>\n",
       "    <tr>\n",
       "      <th>Date</th>\n",
       "      <th></th>\n",
       "      <th></th>\n",
       "      <th></th>\n",
       "      <th></th>\n",
       "      <th></th>\n",
       "    </tr>\n",
       "  </thead>\n",
       "  <tbody>\n",
       "    <tr>\n",
       "      <th>2011-08-05</th>\n",
       "      <td>Excelsior</td>\n",
       "      <td>Feyenoord</td>\n",
       "      <td>A</td>\n",
       "      <td>0.0</td>\n",
       "      <td>2.0</td>\n",
       "    </tr>\n",
       "    <tr>\n",
       "      <th>2011-08-06</th>\n",
       "      <td>Heerenveen</td>\n",
       "      <td>Nijmegen</td>\n",
       "      <td>D</td>\n",
       "      <td>2.0</td>\n",
       "      <td>2.0</td>\n",
       "    </tr>\n",
       "    <tr>\n",
       "      <th>2011-08-06</th>\n",
       "      <td>Roda</td>\n",
       "      <td>Groningen</td>\n",
       "      <td>H</td>\n",
       "      <td>2.0</td>\n",
       "      <td>1.0</td>\n",
       "    </tr>\n",
       "    <tr>\n",
       "      <th>2011-08-06</th>\n",
       "      <td>VVV Venlo</td>\n",
       "      <td>Utrecht</td>\n",
       "      <td>D</td>\n",
       "      <td>0.0</td>\n",
       "      <td>0.0</td>\n",
       "    </tr>\n",
       "    <tr>\n",
       "      <th>2011-08-06</th>\n",
       "      <td>Waalwijk</td>\n",
       "      <td>Heracles</td>\n",
       "      <td>D</td>\n",
       "      <td>2.0</td>\n",
       "      <td>2.0</td>\n",
       "    </tr>\n",
       "  </tbody>\n",
       "</table>\n",
       "</div>"
      ],
      "text/plain": [
       "              HomeTeam   AwayTeam FTR  FTHG  FTAG\n",
       "Date                                             \n",
       "2011-08-05   Excelsior  Feyenoord   A   0.0   2.0\n",
       "2011-08-06  Heerenveen   Nijmegen   D   2.0   2.0\n",
       "2011-08-06        Roda  Groningen   H   2.0   1.0\n",
       "2011-08-06   VVV Venlo    Utrecht   D   0.0   0.0\n",
       "2011-08-06    Waalwijk   Heracles   D   2.0   2.0"
      ]
     },
     "execution_count": 10,
     "metadata": {},
     "output_type": "execute_result"
    }
   ],
   "source": [
    "data = all_data[['HomeTeam', 'AwayTeam', 'FTR', 'FTHG', 'FTAG']] \n",
    "data.head(5)"
   ]
  },
  {
   "cell_type": "code",
   "execution_count": 11,
   "metadata": {
    "collapsed": false
   },
   "outputs": [
    {
     "data": {
      "text/html": [
       "<div>\n",
       "<table border=\"1\" class=\"dataframe\">\n",
       "  <thead>\n",
       "    <tr style=\"text-align: right;\">\n",
       "      <th></th>\n",
       "      <th>HomeTeam</th>\n",
       "      <th>AwayTeam</th>\n",
       "      <th>FTR</th>\n",
       "      <th>FTHG</th>\n",
       "      <th>FTAG</th>\n",
       "    </tr>\n",
       "    <tr>\n",
       "      <th>Date</th>\n",
       "      <th></th>\n",
       "      <th></th>\n",
       "      <th></th>\n",
       "      <th></th>\n",
       "      <th></th>\n",
       "    </tr>\n",
       "  </thead>\n",
       "  <tbody>\n",
       "    <tr>\n",
       "      <th>2016-10-01</th>\n",
       "      <td>Vitesse</td>\n",
       "      <td>Groningen</td>\n",
       "      <td>H</td>\n",
       "      <td>2.0</td>\n",
       "      <td>1.0</td>\n",
       "    </tr>\n",
       "    <tr>\n",
       "      <th>2016-10-02</th>\n",
       "      <td>Ajax</td>\n",
       "      <td>Utrecht</td>\n",
       "      <td>H</td>\n",
       "      <td>3.0</td>\n",
       "      <td>2.0</td>\n",
       "    </tr>\n",
       "    <tr>\n",
       "      <th>2016-10-02</th>\n",
       "      <td>Heracles</td>\n",
       "      <td>Twente</td>\n",
       "      <td>D</td>\n",
       "      <td>1.0</td>\n",
       "      <td>1.0</td>\n",
       "    </tr>\n",
       "    <tr>\n",
       "      <th>2016-10-02</th>\n",
       "      <td>Sparta Rotterdam</td>\n",
       "      <td>AZ Alkmaar</td>\n",
       "      <td>D</td>\n",
       "      <td>1.0</td>\n",
       "      <td>1.0</td>\n",
       "    </tr>\n",
       "    <tr>\n",
       "      <th>2016-10-02</th>\n",
       "      <td>Willem II</td>\n",
       "      <td>Feyenoord</td>\n",
       "      <td>A</td>\n",
       "      <td>0.0</td>\n",
       "      <td>2.0</td>\n",
       "    </tr>\n",
       "  </tbody>\n",
       "</table>\n",
       "</div>"
      ],
      "text/plain": [
       "                    HomeTeam    AwayTeam FTR  FTHG  FTAG\n",
       "Date                                                    \n",
       "2016-10-01           Vitesse   Groningen   H   2.0   1.0\n",
       "2016-10-02              Ajax     Utrecht   H   3.0   2.0\n",
       "2016-10-02          Heracles      Twente   D   1.0   1.0\n",
       "2016-10-02  Sparta Rotterdam  AZ Alkmaar   D   1.0   1.0\n",
       "2016-10-02         Willem II   Feyenoord   A   0.0   2.0"
      ]
     },
     "execution_count": 11,
     "metadata": {},
     "output_type": "execute_result"
    }
   ],
   "source": [
    "data.tail(5)"
   ]
  },
  {
   "cell_type": "code",
   "execution_count": 12,
   "metadata": {
    "collapsed": false
   },
   "outputs": [],
   "source": [
    "input_features = data"
   ]
  },
  {
   "cell_type": "code",
   "execution_count": 13,
   "metadata": {
    "collapsed": false
   },
   "outputs": [],
   "source": [
    "g = input_features.columns.to_series().groupby(data.dtypes).groups"
   ]
  },
  {
   "cell_type": "code",
   "execution_count": 14,
   "metadata": {
    "collapsed": false
   },
   "outputs": [],
   "source": [
    "object_features = {key.name: value for key, value in g.items()}['object']"
   ]
  },
  {
   "cell_type": "code",
   "execution_count": 15,
   "metadata": {
    "collapsed": false
   },
   "outputs": [
    {
     "data": {
      "text/plain": [
       "['HomeTeam', 'AwayTeam', 'FTR']"
      ]
     },
     "execution_count": 15,
     "metadata": {},
     "output_type": "execute_result"
    }
   ],
   "source": [
    "object_features"
   ]
  },
  {
   "cell_type": "markdown",
   "metadata": {},
   "source": [
    "# Create performance history per team"
   ]
  },
  {
   "cell_type": "markdown",
   "metadata": {},
   "source": [
    "1. Track winning or losing streak as feature\n",
    "2. Track total wins, losses and draws"
   ]
  },
  {
   "cell_type": "code",
   "execution_count": 16,
   "metadata": {
    "collapsed": false
   },
   "outputs": [],
   "source": [
    "class Stats:\n",
    "    def __init__(self):\n",
    "        self.win_streak = 0\n",
    "        self.lose_streak = 0\n",
    "        self.total_wins = 0\n",
    "        self.total_losses = 0\n",
    "        self.total_draws = 0\n",
    "        self.total_games = 0\n",
    "        self.previous_encounters = {}\n",
    "        self.result_series = []\n",
    "        \n",
    "    def get_win_ratio(self):\n",
    "        try:\n",
    "            return (float(self.total_wins) / float(self.total_games))\n",
    "        except:\n",
    "            return(0)\n",
    "        \n",
    "    def get_win_ratio_against_opponent(self, opponent):\n",
    "        try:\n",
    "            results = self.previous_encounters[opponent]\n",
    "            return sum(results)\n",
    "        except:\n",
    "            return(0)\n",
    "        \n",
    "    def average_goals_scored_and_conceded(self, number_of_games):\n",
    "        if self.total_games == 0:\n",
    "            return (0,0)\n",
    "        elif number_of_games > self.total_games:\n",
    "            number_of_games = self.total_games\n",
    "        games = self.result_series[-number_of_games:]\n",
    "        goals_scored = 0\n",
    "        goals_conceded = 0\n",
    "        for game in games:\n",
    "            goals_scored = goals_scored + game[\"goals_scored\"]\n",
    "            goals_conceded = goals_conceded + game[\"goals_conceded\"]\n",
    "            \n",
    "        return (goals_scored/number_of_games, goals_conceded/number_of_games)\n",
    "    \n",
    "    def days_since_last_match(self,today):\n",
    "        if len(self.result_series) == 0:\n",
    "            return 365\n",
    "        last_match_date = self.result_series[-1][\"date\"]\n",
    "        return((today-last_match_date).days)\n",
    "            \n",
    "    #Results: 1 = win, 0 = draw, -1 = loss for this team against the opponent\n",
    "    def update_previous_encounters(self, opponent, result):\n",
    "        if opponent in self.previous_encounters:\n",
    "            self.previous_encounters[opponent].append(result)\n",
    "        else:\n",
    "            self.previous_encounters[opponent] = [result]\n",
    "\n",
    "    def update_result(self, opponent, goals_scored, goals_conceded, date):\n",
    "        if pd.isnull(goals_scored) or pd.isnull(goals_conceded):\n",
    "            return False\n",
    "        result = 2\n",
    "        if(goals_scored > goals_conceded):\n",
    "            result = 1\n",
    "            self.update_win()\n",
    "        elif(goals_scored < goals_conceded):\n",
    "            result = -1\n",
    "            self.update_loss()\n",
    "        else:\n",
    "            result = 0\n",
    "            self.update_draw()\n",
    "        self.result_series.append({\"result\":result, \"goals_scored\":goals_scored, \"goals_conceded\":goals_conceded, \"date\":date})\n",
    "        self.update_previous_encounters(opponent, result)\n",
    "    \n",
    "    def update_win(self):\n",
    "        self.win_streak = self.win_streak + 1\n",
    "        self.lose_streak = 0\n",
    "        self.total_wins = self.total_wins + 1\n",
    "        self.total_games = self.total_games + 1\n",
    "        \n",
    "    def update_loss(self):\n",
    "        self.lose_streak = self.lose_streak + 1\n",
    "        self.win_streak = 0\n",
    "        self.total_losses = self.total_losses + 1\n",
    "        self.total_games = self.total_games + 1\n",
    "    \n",
    "    def update_draw(self):\n",
    "        self.total_draws = self.total_draws + 1\n",
    "        self.win_streak = 0\n",
    "        self.lose_streak = 0\n",
    "        self.total_games = self.total_games + 1"
   ]
  },
  {
   "cell_type": "code",
   "execution_count": 17,
   "metadata": {
    "collapsed": false
   },
   "outputs": [],
   "source": [
    "teams = input_features.HomeTeam.unique()\n",
    "stats = {}\n",
    "for team in teams:\n",
    "    stats[team] = Stats()"
   ]
  },
  {
   "cell_type": "markdown",
   "metadata": {},
   "source": [
    "## Create feature arrays as columns for data frame"
   ]
  },
  {
   "cell_type": "code",
   "execution_count": 18,
   "metadata": {
    "collapsed": false
   },
   "outputs": [],
   "source": [
    "feature_names = [\"win_streak\",\n",
    "    \"lose_streak\",\n",
    "    \"total_wins\",\n",
    "    \"total_losses\",\n",
    "    \"total_draws\",\n",
    "    \"win_ratio\",\n",
    "    \"opponent_win_ratio\",\n",
    "    \"total_games\",\n",
    "    \"goals_scored\",\n",
    "    \"goals_conceded\",\n",
    "    \"days_since_last_match\"]\n",
    "\n",
    "home_results = {}\n",
    "away_results = {}\n",
    "\n",
    "for feature in feature_names:\n",
    "    home_results[feature] = []\n",
    "    away_results[feature] = []"
   ]
  },
  {
   "cell_type": "markdown",
   "metadata": {},
   "source": [
    "## Add aggregated stats from previous matches as features then update stats based on this match"
   ]
  },
  {
   "cell_type": "code",
   "execution_count": 19,
   "metadata": {
    "collapsed": false
   },
   "outputs": [],
   "source": [
    "def update_results(results, stats, opponent,date):\n",
    "    results[\"win_streak\"].append(stats.win_streak)\n",
    "    results[\"lose_streak\"].append(stats.lose_streak)\n",
    "    results[\"total_wins\"].append(stats.total_wins)\n",
    "    results[\"total_losses\"].append(stats.total_losses)\n",
    "    results[\"total_draws\"].append(stats.total_draws)\n",
    "    results[\"win_ratio\"].append(stats.get_win_ratio())\n",
    "    results[\"opponent_win_ratio\"].append(stats.get_win_ratio_against_opponent(opponent))\n",
    "    results[\"total_games\"].append(stats.total_games)\n",
    "    goals_scored, goals_conceded = stats.average_goals_scored_and_conceded(3)\n",
    "    if pd.isnull(goals_scored):\n",
    "        print(stats.result_series[-3:])\n",
    "    results[\"goals_scored\"].append(goals_scored)\n",
    "    results[\"goals_conceded\"].append(goals_conceded)\n",
    "    results[\"days_since_last_match\"].append(stats.days_since_last_match(date))\n",
    "    \n",
    "    return results\n",
    "    \n",
    "\n",
    "for date, match in input_features.iterrows():\n",
    "    home_team = match.HomeTeam\n",
    "    home_stats = stats[home_team]\n",
    "    \n",
    "    away_team = match.AwayTeam\n",
    "    away_stats = stats[away_team]\n",
    "    \n",
    "    home_results = update_results(home_results, home_stats, away_team, date)\n",
    "\n",
    "    away_results = update_results(away_results, away_stats, home_team, date)\n",
    "    \n",
    "    #Update stats based on results of this match\n",
    "    match_result = match.FTR    \n",
    "    home_goals = match.FTHG\n",
    "    away_goals = match.FTAG\n",
    "        \n",
    "    \"\"\"if home_team == \"Ajax\":\n",
    "        #print(\"total wins: \" + str(home_stats.total_wins))\n",
    "        #print(\"total games: \" + str(home_stats.total_games))\n",
    "        #print(\"win ratio: \" + str(home_stats.get_win_ratio_against_opponent(away_team)))\n",
    "        print(\"today: \" + str(date))\n",
    "        print(\"days since last match \" + str(home_stats.days_since_last_match(date)))\n",
    "    elif away_team == \"Ajax\":\n",
    "        #print(\"total wins: \" + str(away_stats.total_wins))\n",
    "        #print(\"total games: \" + str(away_stats.total_games))\n",
    "        #print(\"win ratio: \" + str(away_stats.get_win_ratio_against_opponent(home_team)))\n",
    "        print(\"today: \" + str(date))\n",
    "        print(\"days since last match \" + str(away_stats.days_since_last_match(date)))\"\"\"\n",
    "        \n",
    "    home_stats.update_result(away_team,home_goals,away_goals, date)\n",
    "    away_stats.update_result(home_team,away_goals,home_goals, date)"
   ]
  },
  {
   "cell_type": "code",
   "execution_count": 20,
   "metadata": {
    "collapsed": false
   },
   "outputs": [
    {
     "data": {
      "text/plain": [
       "'if home_team == \"Juventus\" and away_team == \"Roma\":\\n    print(\"CHECK\")\\nif home_team == \"Roma\" and away_team == \"Juventus\":\\n    print(\"CHECK\")'"
      ]
     },
     "execution_count": 20,
     "metadata": {},
     "output_type": "execute_result"
    }
   ],
   "source": [
    "    \"\"\"if home_team == \"Juventus\" and away_team == \"Roma\":\n",
    "        print(\"CHECK\")\n",
    "    if home_team == \"Roma\" and away_team == \"Juventus\":\n",
    "        print(\"CHECK\")\"\"\""
   ]
  },
  {
   "cell_type": "code",
   "execution_count": 21,
   "metadata": {
    "collapsed": false
   },
   "outputs": [],
   "source": [
    "columns = {}\n",
    "\n",
    "for column_name, column  in home_results.iteritems():\n",
    "    columns[\"home_\" + column_name] = column\n",
    " \n",
    "for column_name, column  in away_results.iteritems():\n",
    "    columns[\"away_\" + column_name] = column"
   ]
  },
  {
   "cell_type": "code",
   "execution_count": 22,
   "metadata": {
    "collapsed": false
   },
   "outputs": [],
   "source": [
    "input_features = pd.DataFrame(data=columns, index=data.index.values)"
   ]
  },
  {
   "cell_type": "code",
   "execution_count": 23,
   "metadata": {
    "collapsed": false
   },
   "outputs": [],
   "source": [
    "#input_features = input_features.drop([\"away_total_losses\", \"home_total_losses\", \"away_total_wins\", \"home_total_wins\", \"away_total_draws\", \"home_total_draws\"], 1)\n",
    "input_features = input_features[['home_win_streak', 'away_win_streak', 'home_lose_streak', 'away_lose_streak', 'home_win_ratio', 'away_win_ratio', 'home_days_since_last_match', 'away_days_since_last_match', 'home_opponent_win_ratio', 'away_opponent_win_ratio']]"
   ]
  },
  {
   "cell_type": "code",
   "execution_count": 24,
   "metadata": {
    "collapsed": false
   },
   "outputs": [
    {
     "data": {
      "text/html": [
       "<div>\n",
       "<table border=\"1\" class=\"dataframe\">\n",
       "  <thead>\n",
       "    <tr style=\"text-align: right;\">\n",
       "      <th></th>\n",
       "      <th>home_win_streak</th>\n",
       "      <th>away_win_streak</th>\n",
       "      <th>home_lose_streak</th>\n",
       "      <th>away_lose_streak</th>\n",
       "      <th>home_win_ratio</th>\n",
       "      <th>away_win_ratio</th>\n",
       "      <th>home_days_since_last_match</th>\n",
       "      <th>away_days_since_last_match</th>\n",
       "      <th>home_opponent_win_ratio</th>\n",
       "      <th>away_opponent_win_ratio</th>\n",
       "    </tr>\n",
       "  </thead>\n",
       "  <tbody>\n",
       "    <tr>\n",
       "      <th>2011-08-05</th>\n",
       "      <td>0</td>\n",
       "      <td>0</td>\n",
       "      <td>0</td>\n",
       "      <td>0</td>\n",
       "      <td>0.0</td>\n",
       "      <td>0.0</td>\n",
       "      <td>365</td>\n",
       "      <td>365</td>\n",
       "      <td>0</td>\n",
       "      <td>0</td>\n",
       "    </tr>\n",
       "    <tr>\n",
       "      <th>2011-08-06</th>\n",
       "      <td>0</td>\n",
       "      <td>0</td>\n",
       "      <td>0</td>\n",
       "      <td>0</td>\n",
       "      <td>0.0</td>\n",
       "      <td>0.0</td>\n",
       "      <td>365</td>\n",
       "      <td>365</td>\n",
       "      <td>0</td>\n",
       "      <td>0</td>\n",
       "    </tr>\n",
       "    <tr>\n",
       "      <th>2011-08-06</th>\n",
       "      <td>0</td>\n",
       "      <td>0</td>\n",
       "      <td>0</td>\n",
       "      <td>0</td>\n",
       "      <td>0.0</td>\n",
       "      <td>0.0</td>\n",
       "      <td>365</td>\n",
       "      <td>365</td>\n",
       "      <td>0</td>\n",
       "      <td>0</td>\n",
       "    </tr>\n",
       "    <tr>\n",
       "      <th>2011-08-06</th>\n",
       "      <td>0</td>\n",
       "      <td>0</td>\n",
       "      <td>0</td>\n",
       "      <td>0</td>\n",
       "      <td>0.0</td>\n",
       "      <td>0.0</td>\n",
       "      <td>365</td>\n",
       "      <td>365</td>\n",
       "      <td>0</td>\n",
       "      <td>0</td>\n",
       "    </tr>\n",
       "    <tr>\n",
       "      <th>2011-08-06</th>\n",
       "      <td>0</td>\n",
       "      <td>0</td>\n",
       "      <td>0</td>\n",
       "      <td>0</td>\n",
       "      <td>0.0</td>\n",
       "      <td>0.0</td>\n",
       "      <td>365</td>\n",
       "      <td>365</td>\n",
       "      <td>0</td>\n",
       "      <td>0</td>\n",
       "    </tr>\n",
       "    <tr>\n",
       "      <th>2011-08-07</th>\n",
       "      <td>0</td>\n",
       "      <td>0</td>\n",
       "      <td>0</td>\n",
       "      <td>0</td>\n",
       "      <td>0.0</td>\n",
       "      <td>0.0</td>\n",
       "      <td>365</td>\n",
       "      <td>365</td>\n",
       "      <td>0</td>\n",
       "      <td>0</td>\n",
       "    </tr>\n",
       "    <tr>\n",
       "      <th>2011-08-07</th>\n",
       "      <td>0</td>\n",
       "      <td>0</td>\n",
       "      <td>0</td>\n",
       "      <td>0</td>\n",
       "      <td>0.0</td>\n",
       "      <td>0.0</td>\n",
       "      <td>365</td>\n",
       "      <td>365</td>\n",
       "      <td>0</td>\n",
       "      <td>0</td>\n",
       "    </tr>\n",
       "    <tr>\n",
       "      <th>2011-08-07</th>\n",
       "      <td>0</td>\n",
       "      <td>0</td>\n",
       "      <td>0</td>\n",
       "      <td>0</td>\n",
       "      <td>0.0</td>\n",
       "      <td>0.0</td>\n",
       "      <td>365</td>\n",
       "      <td>365</td>\n",
       "      <td>0</td>\n",
       "      <td>0</td>\n",
       "    </tr>\n",
       "    <tr>\n",
       "      <th>2011-08-07</th>\n",
       "      <td>0</td>\n",
       "      <td>0</td>\n",
       "      <td>0</td>\n",
       "      <td>0</td>\n",
       "      <td>0.0</td>\n",
       "      <td>0.0</td>\n",
       "      <td>365</td>\n",
       "      <td>365</td>\n",
       "      <td>0</td>\n",
       "      <td>0</td>\n",
       "    </tr>\n",
       "    <tr>\n",
       "      <th>2011-08-13</th>\n",
       "      <td>1</td>\n",
       "      <td>1</td>\n",
       "      <td>0</td>\n",
       "      <td>0</td>\n",
       "      <td>1.0</td>\n",
       "      <td>1.0</td>\n",
       "      <td>8</td>\n",
       "      <td>7</td>\n",
       "      <td>0</td>\n",
       "      <td>0</td>\n",
       "    </tr>\n",
       "  </tbody>\n",
       "</table>\n",
       "</div>"
      ],
      "text/plain": [
       "            home_win_streak  away_win_streak  home_lose_streak  \\\n",
       "2011-08-05                0                0                 0   \n",
       "2011-08-06                0                0                 0   \n",
       "2011-08-06                0                0                 0   \n",
       "2011-08-06                0                0                 0   \n",
       "2011-08-06                0                0                 0   \n",
       "2011-08-07                0                0                 0   \n",
       "2011-08-07                0                0                 0   \n",
       "2011-08-07                0                0                 0   \n",
       "2011-08-07                0                0                 0   \n",
       "2011-08-13                1                1                 0   \n",
       "\n",
       "            away_lose_streak  home_win_ratio  away_win_ratio  \\\n",
       "2011-08-05                 0             0.0             0.0   \n",
       "2011-08-06                 0             0.0             0.0   \n",
       "2011-08-06                 0             0.0             0.0   \n",
       "2011-08-06                 0             0.0             0.0   \n",
       "2011-08-06                 0             0.0             0.0   \n",
       "2011-08-07                 0             0.0             0.0   \n",
       "2011-08-07                 0             0.0             0.0   \n",
       "2011-08-07                 0             0.0             0.0   \n",
       "2011-08-07                 0             0.0             0.0   \n",
       "2011-08-13                 0             1.0             1.0   \n",
       "\n",
       "            home_days_since_last_match  away_days_since_last_match  \\\n",
       "2011-08-05                         365                         365   \n",
       "2011-08-06                         365                         365   \n",
       "2011-08-06                         365                         365   \n",
       "2011-08-06                         365                         365   \n",
       "2011-08-06                         365                         365   \n",
       "2011-08-07                         365                         365   \n",
       "2011-08-07                         365                         365   \n",
       "2011-08-07                         365                         365   \n",
       "2011-08-07                         365                         365   \n",
       "2011-08-13                           8                           7   \n",
       "\n",
       "            home_opponent_win_ratio  away_opponent_win_ratio  \n",
       "2011-08-05                        0                        0  \n",
       "2011-08-06                        0                        0  \n",
       "2011-08-06                        0                        0  \n",
       "2011-08-06                        0                        0  \n",
       "2011-08-06                        0                        0  \n",
       "2011-08-07                        0                        0  \n",
       "2011-08-07                        0                        0  \n",
       "2011-08-07                        0                        0  \n",
       "2011-08-07                        0                        0  \n",
       "2011-08-13                        0                        0  "
      ]
     },
     "execution_count": 24,
     "metadata": {},
     "output_type": "execute_result"
    }
   ],
   "source": [
    "input_features.head(10)"
   ]
  },
  {
   "cell_type": "markdown",
   "metadata": {},
   "source": [
    "# Remove first half of a season so all stats have something to work with"
   ]
  },
  {
   "cell_type": "code",
   "execution_count": 25,
   "metadata": {
    "collapsed": false
   },
   "outputs": [],
   "source": [
    "#Season has 18 teams\n",
    "#Each team plays 36 matches\n",
    "#after 36 games each team should have played two games\n",
    "buffer_games = 36\n",
    "input_features = input_features[buffer_games:]"
   ]
  },
  {
   "cell_type": "code",
   "execution_count": 26,
   "metadata": {
    "collapsed": false
   },
   "outputs": [
    {
     "data": {
      "text/html": [
       "<div>\n",
       "<table border=\"1\" class=\"dataframe\">\n",
       "  <thead>\n",
       "    <tr style=\"text-align: right;\">\n",
       "      <th></th>\n",
       "      <th>home_win_streak</th>\n",
       "      <th>away_win_streak</th>\n",
       "      <th>home_lose_streak</th>\n",
       "      <th>away_lose_streak</th>\n",
       "      <th>home_win_ratio</th>\n",
       "      <th>away_win_ratio</th>\n",
       "      <th>home_days_since_last_match</th>\n",
       "      <th>away_days_since_last_match</th>\n",
       "      <th>home_opponent_win_ratio</th>\n",
       "      <th>away_opponent_win_ratio</th>\n",
       "    </tr>\n",
       "  </thead>\n",
       "  <tbody>\n",
       "    <tr>\n",
       "      <th>2011-09-10</th>\n",
       "      <td>2</td>\n",
       "      <td>0</td>\n",
       "      <td>0</td>\n",
       "      <td>1</td>\n",
       "      <td>0.75</td>\n",
       "      <td>0.50</td>\n",
       "      <td>13</td>\n",
       "      <td>15</td>\n",
       "      <td>0</td>\n",
       "      <td>0</td>\n",
       "    </tr>\n",
       "    <tr>\n",
       "      <th>2011-09-10</th>\n",
       "      <td>1</td>\n",
       "      <td>2</td>\n",
       "      <td>0</td>\n",
       "      <td>0</td>\n",
       "      <td>0.25</td>\n",
       "      <td>0.50</td>\n",
       "      <td>13</td>\n",
       "      <td>14</td>\n",
       "      <td>0</td>\n",
       "      <td>0</td>\n",
       "    </tr>\n",
       "    <tr>\n",
       "      <th>2011-09-10</th>\n",
       "      <td>0</td>\n",
       "      <td>1</td>\n",
       "      <td>1</td>\n",
       "      <td>0</td>\n",
       "      <td>0.00</td>\n",
       "      <td>0.50</td>\n",
       "      <td>13</td>\n",
       "      <td>14</td>\n",
       "      <td>0</td>\n",
       "      <td>0</td>\n",
       "    </tr>\n",
       "    <tr>\n",
       "      <th>2011-09-10</th>\n",
       "      <td>0</td>\n",
       "      <td>1</td>\n",
       "      <td>1</td>\n",
       "      <td>0</td>\n",
       "      <td>0.25</td>\n",
       "      <td>0.75</td>\n",
       "      <td>14</td>\n",
       "      <td>15</td>\n",
       "      <td>0</td>\n",
       "      <td>0</td>\n",
       "    </tr>\n",
       "    <tr>\n",
       "      <th>2011-09-10</th>\n",
       "      <td>0</td>\n",
       "      <td>4</td>\n",
       "      <td>3</td>\n",
       "      <td>0</td>\n",
       "      <td>0.25</td>\n",
       "      <td>1.00</td>\n",
       "      <td>14</td>\n",
       "      <td>14</td>\n",
       "      <td>0</td>\n",
       "      <td>0</td>\n",
       "    </tr>\n",
       "  </tbody>\n",
       "</table>\n",
       "</div>"
      ],
      "text/plain": [
       "            home_win_streak  away_win_streak  home_lose_streak  \\\n",
       "2011-09-10                2                0                 0   \n",
       "2011-09-10                1                2                 0   \n",
       "2011-09-10                0                1                 1   \n",
       "2011-09-10                0                1                 1   \n",
       "2011-09-10                0                4                 3   \n",
       "\n",
       "            away_lose_streak  home_win_ratio  away_win_ratio  \\\n",
       "2011-09-10                 1            0.75            0.50   \n",
       "2011-09-10                 0            0.25            0.50   \n",
       "2011-09-10                 0            0.00            0.50   \n",
       "2011-09-10                 0            0.25            0.75   \n",
       "2011-09-10                 0            0.25            1.00   \n",
       "\n",
       "            home_days_since_last_match  away_days_since_last_match  \\\n",
       "2011-09-10                          13                          15   \n",
       "2011-09-10                          13                          14   \n",
       "2011-09-10                          13                          14   \n",
       "2011-09-10                          14                          15   \n",
       "2011-09-10                          14                          14   \n",
       "\n",
       "            home_opponent_win_ratio  away_opponent_win_ratio  \n",
       "2011-09-10                        0                        0  \n",
       "2011-09-10                        0                        0  \n",
       "2011-09-10                        0                        0  \n",
       "2011-09-10                        0                        0  \n",
       "2011-09-10                        0                        0  "
      ]
     },
     "execution_count": 26,
     "metadata": {},
     "output_type": "execute_result"
    }
   ],
   "source": [
    "input_features.head(5)"
   ]
  },
  {
   "cell_type": "markdown",
   "metadata": {},
   "source": [
    "# Check for unusable fields"
   ]
  },
  {
   "cell_type": "code",
   "execution_count": 27,
   "metadata": {
    "collapsed": false
   },
   "outputs": [],
   "source": [
    "column_names = list(input_features.columns.values)"
   ]
  },
  {
   "cell_type": "markdown",
   "metadata": {},
   "source": [
    "## Infinite values"
   ]
  },
  {
   "cell_type": "code",
   "execution_count": 28,
   "metadata": {
    "collapsed": false
   },
   "outputs": [
    {
     "name": "stdout",
     "output_type": "stream",
     "text": [
      "home_win_streak: 0\n",
      "away_win_streak: 0\n",
      "home_lose_streak: 0\n",
      "away_lose_streak: 0\n",
      "home_win_ratio: 0\n",
      "away_win_ratio: 0\n",
      "home_days_since_last_match: 0\n",
      "away_days_since_last_match: 0\n",
      "home_opponent_win_ratio: 0\n",
      "away_opponent_win_ratio: 0\n"
     ]
    }
   ],
   "source": [
    "for column in column_names:\n",
    "    total_infinite_values = sum(np.isinf(input_features[column]))\n",
    "    print (column + \": \" + str(total_infinite_values))"
   ]
  },
  {
   "cell_type": "code",
   "execution_count": 29,
   "metadata": {
    "collapsed": false
   },
   "outputs": [
    {
     "name": "stdout",
     "output_type": "stream",
     "text": [
      "home_win_streak: 0\n",
      "away_win_streak: 0\n",
      "home_lose_streak: 0\n",
      "away_lose_streak: 0\n",
      "home_win_ratio: 0\n",
      "away_win_ratio: 0\n",
      "home_days_since_last_match: 0\n",
      "away_days_since_last_match: 0\n",
      "home_opponent_win_ratio: 0\n",
      "away_opponent_win_ratio: 0\n"
     ]
    }
   ],
   "source": [
    "for column in column_names:\n",
    "    total_NaN_values = sum(np.isnan(input_features[column]))\n",
    "    print (column + \": \" + str(total_NaN_values))"
   ]
  },
  {
   "cell_type": "markdown",
   "metadata": {},
   "source": [
    "#### Full time result as output\n",
    "### First convert output to numeric for easyer processing"
   ]
  },
  {
   "cell_type": "code",
   "execution_count": 30,
   "metadata": {
    "collapsed": false
   },
   "outputs": [],
   "source": [
    "def ResultToNumeric(results):\n",
    "    numericResults = []\n",
    "    for result in results:\n",
    "        if result == 'H':\n",
    "            numericResults.append(0)\n",
    "        elif result == 'A':\n",
    "            numericResults.append(1)\n",
    "        else:\n",
    "            numericResults.append(2)\n",
    "    return np.array(numericResults)\n",
    "\n",
    "output = ResultToNumeric(data['FTR'])\n",
    "output = output[buffer_games:]"
   ]
  },
  {
   "cell_type": "markdown",
   "metadata": {},
   "source": [
    "# Baseline model"
   ]
  },
  {
   "cell_type": "code",
   "execution_count": 31,
   "metadata": {
    "collapsed": false
   },
   "outputs": [
    {
     "data": {
      "text/plain": [
       "array([[  0, 721],\n",
       "       [  1, 464],\n",
       "       [  2, 384]], dtype=int64)"
      ]
     },
     "execution_count": 31,
     "metadata": {},
     "output_type": "execute_result"
    }
   ],
   "source": [
    "bins = np.bincount(output)\n",
    "index = np.nonzero(bins)[0]\n",
    "np.vstack((index,bins[index])).T"
   ]
  },
  {
   "cell_type": "markdown",
   "metadata": {},
   "source": [
    "## Predict all games as a home win will result in 721/1569=0.460"
   ]
  },
  {
   "cell_type": "markdown",
   "metadata": {},
   "source": [
    "# Try random forest"
   ]
  },
  {
   "cell_type": "code",
   "execution_count": 32,
   "metadata": {
    "collapsed": false
   },
   "outputs": [],
   "source": [
    "from sklearn.ensemble import RandomForestClassifier\n",
    "\n",
    "random_forest_model = RandomForestClassifier(n_estimators=1000,\n",
    "                                                   max_features=4,\n",
    "                                                   max_depth=None,\n",
    "                                                   min_samples_split=1,\n",
    "                                                   n_jobs=-1)"
   ]
  },
  {
   "cell_type": "markdown",
   "metadata": {},
   "source": [
    "## Scoring"
   ]
  },
  {
   "cell_type": "code",
   "execution_count": 33,
   "metadata": {
    "collapsed": true
   },
   "outputs": [],
   "source": [
    "def report_scoring(scores):\n",
    "    print(\"List of scores: \" + str(scores))\n",
    "    print(\"mean scoring: \" + str(scores.mean()))\n",
    "    print(\"Standard deviation between scorings: \" + str(scores.std()))"
   ]
  },
  {
   "cell_type": "code",
   "execution_count": 34,
   "metadata": {
    "collapsed": false
   },
   "outputs": [
    {
     "name": "stdout",
     "output_type": "stream",
     "text": [
      "List of scores: [ 0.47137405  0.47418738  0.47126437]\n",
      "mean scoring: 0.472275264705\n",
      "Standard deviation between scorings: 0.00135281125002\n"
     ]
    }
   ],
   "source": [
    "from sklearn.model_selection import cross_val_score\n",
    "\n",
    "scores = cross_val_score(random_forest_model, input_features, output)\n",
    "\n",
    "report_scoring(scores)"
   ]
  },
  {
   "cell_type": "markdown",
   "metadata": {},
   "source": [
    "## Feature importance"
   ]
  },
  {
   "cell_type": "code",
   "execution_count": 35,
   "metadata": {
    "collapsed": false
   },
   "outputs": [
    {
     "data": {
      "text/plain": [
       "home_win_streak               0.044315\n",
       "away_win_streak               0.058243\n",
       "home_lose_streak              0.059181\n",
       "away_lose_streak              0.047815\n",
       "home_win_ratio                0.244800\n",
       "away_win_ratio                0.236170\n",
       "home_days_since_last_match    0.094987\n",
       "away_days_since_last_match    0.095011\n",
       "home_opponent_win_ratio       0.059568\n",
       "away_opponent_win_ratio       0.059911\n",
       "dtype: float64"
      ]
     },
     "execution_count": 35,
     "metadata": {},
     "output_type": "execute_result"
    }
   ],
   "source": [
    "trained_random_forest_model = random_forest_model.fit(input_features,output)\n",
    "pd.Series(trained_random_forest_model.feature_importances_, input_features.columns)"
   ]
  },
  {
   "cell_type": "markdown",
   "metadata": {},
   "source": [
    "# Boosted random forest"
   ]
  },
  {
   "cell_type": "code",
   "execution_count": 36,
   "metadata": {
    "collapsed": false
   },
   "outputs": [],
   "source": [
    "from sklearn.ensemble import AdaBoostClassifier\n",
    "\n",
    "boosted_random_forest_model = AdaBoostClassifier(n_estimators=1000)"
   ]
  },
  {
   "cell_type": "markdown",
   "metadata": {},
   "source": [
    "## Scoring"
   ]
  },
  {
   "cell_type": "code",
   "execution_count": 37,
   "metadata": {
    "collapsed": false
   },
   "outputs": [
    {
     "name": "stdout",
     "output_type": "stream",
     "text": [
      "List of scores: [ 0.44274809  0.44933078  0.38888889]\n",
      "mean scoring: 0.42698925481\n",
      "Standard deviation between scorings: 0.0270747283409\n"
     ]
    }
   ],
   "source": [
    "scores = cross_val_score(boosted_random_forest_model, input_features, output)\n",
    "\n",
    "report_scoring(scores)"
   ]
  },
  {
   "cell_type": "markdown",
   "metadata": {},
   "source": [
    "## Feature importance"
   ]
  },
  {
   "cell_type": "code",
   "execution_count": 38,
   "metadata": {
    "collapsed": false
   },
   "outputs": [
    {
     "data": {
      "text/plain": [
       "home_win_streak               0.026\n",
       "away_win_streak               0.018\n",
       "home_lose_streak              0.010\n",
       "away_lose_streak              0.020\n",
       "home_win_ratio                0.391\n",
       "away_win_ratio                0.427\n",
       "home_days_since_last_match    0.045\n",
       "away_days_since_last_match    0.042\n",
       "home_opponent_win_ratio       0.009\n",
       "away_opponent_win_ratio       0.012\n",
       "dtype: float64"
      ]
     },
     "execution_count": 38,
     "metadata": {},
     "output_type": "execute_result"
    }
   ],
   "source": [
    "trained_boosted_random_forest_model = boosted_random_forest_model.fit(input_features,output)\n",
    "pd.Series(trained_boosted_random_forest_model.feature_importances_, input_features.columns)"
   ]
  },
  {
   "cell_type": "markdown",
   "metadata": {},
   "source": [
    "# SVM"
   ]
  },
  {
   "cell_type": "code",
   "execution_count": 39,
   "metadata": {
    "collapsed": false
   },
   "outputs": [],
   "source": [
    "from sklearn import svm\n",
    "\n",
    "svm_model = svm.SVC()"
   ]
  },
  {
   "cell_type": "markdown",
   "metadata": {},
   "source": [
    "## Scoring"
   ]
  },
  {
   "cell_type": "code",
   "execution_count": 40,
   "metadata": {
    "collapsed": false
   },
   "outputs": [
    {
     "name": "stdout",
     "output_type": "stream",
     "text": [
      "List of scores: [ 0.46374046  0.46462715  0.48659004]\n",
      "mean scoring: 0.471652549127\n",
      "Standard deviation between scorings: 0.0105686010915\n"
     ]
    }
   ],
   "source": [
    "scores = cross_val_score(svm_model, input_features, output)\n",
    "\n",
    "report_scoring(scores)"
   ]
  },
  {
   "cell_type": "markdown",
   "metadata": {},
   "source": [
    "# TPOT"
   ]
  },
  {
   "cell_type": "code",
   "execution_count": 41,
   "metadata": {
    "collapsed": false,
    "scrolled": true
   },
   "outputs": [
    {
     "name": "stderr",
     "output_type": "stream",
     "text": [
      "C:\\Anaconda2\\lib\\site-packages\\sklearn\\cross_validation.py:44: DeprecationWarning: This module was deprecated in version 0.18 in favor of the model_selection module into which all the refactored classes and functions are moved. Also note that the interface of the new CV iterators are different from that of this module. This module will be removed in 0.20.\n",
      "  \"This module will be removed in 0.20.\", DeprecationWarning)\n"
     ]
    },
    {
     "name": "stdout",
     "output_type": "stream",
     "text": [
      "Generation 1 - Current best internal CV score: 0.594375620257\n"
     ]
    },
    {
     "name": "stderr",
     "output_type": "stream",
     "text": []
    },
    {
     "name": "stdout",
     "output_type": "stream",
     "text": [
      "Generation 2 - Current best internal CV score: 0.595329983709\n"
     ]
    },
    {
     "name": "stderr",
     "output_type": "stream",
     "text": []
    },
    {
     "name": "stdout",
     "output_type": "stream",
     "text": [
      "Generation 3 - Current best internal CV score: 0.597239253375\n"
     ]
    },
    {
     "name": "stderr",
     "output_type": "stream",
     "text": []
    },
    {
     "name": "stdout",
     "output_type": "stream",
     "text": [
      "Generation 4 - Current best internal CV score: 0.597239253375\n"
     ]
    },
    {
     "name": "stderr",
     "output_type": "stream",
     "text": []
    },
    {
     "name": "stdout",
     "output_type": "stream",
     "text": [
      "Generation 5 - Current best internal CV score: 0.597239253375\n"
     ]
    },
    {
     "name": "stderr",
     "output_type": "stream",
     "text": []
    },
    {
     "name": "stdout",
     "output_type": "stream",
     "text": [
      "Generation 6 - Current best internal CV score: 0.600365461161\n"
     ]
    },
    {
     "name": "stderr",
     "output_type": "stream",
     "text": []
    },
    {
     "name": "stdout",
     "output_type": "stream",
     "text": [
      "Generation 7 - Current best internal CV score: 0.600365461161\n"
     ]
    },
    {
     "name": "stderr",
     "output_type": "stream",
     "text": []
    },
    {
     "name": "stdout",
     "output_type": "stream",
     "text": [
      "Generation 8 - Current best internal CV score: 0.600365461161\n"
     ]
    },
    {
     "name": "stderr",
     "output_type": "stream",
     "text": [
      "GP Progress:  73%|███████████████▎     | 320/440 [05:33<02:54,  1.45s/pipeline]C:\\Anaconda2\\lib\\site-packages\\sklearn\\utils\\deprecation.py:52: DeprecationWarning: Class RandomizedPCA is deprecated; RandomizedPCA was deprecated in 0.18 and will be removed in 0.20. Use PCA(svd_solver='randomized') instead. The new implementation DOES NOT store whiten ``components_``. Apply transform to get them.\n",
      "  warnings.warn(msg, category=DeprecationWarning)\n"
     ]
    },
    {
     "name": "stdout",
     "output_type": "stream",
     "text": [
      "Generation 9 - Current best internal CV score: 0.600365461161\n"
     ]
    },
    {
     "name": "stderr",
     "output_type": "stream",
     "text": []
    },
    {
     "name": "stdout",
     "output_type": "stream",
     "text": [
      "Generation 10 - Current best internal CV score: 0.600365461161\n"
     ]
    },
    {
     "name": "stderr",
     "output_type": "stream",
     "text": []
    },
    {
     "name": "stdout",
     "output_type": "stream",
     "text": [
      "\n",
      "Best pipeline: GaussianNB(CombineDFs(CombineDFs(input_matrix, input_matrix), Normalizer(input_matrix, 12)))\n"
     ]
    }
   ],
   "source": [
    "from tpot import TPOTClassifier\n",
    "\n",
    "X_test = input_features.tail(612)\n",
    "y_test = output[-612]\n",
    "\n",
    "X_train = input_features[:612]\n",
    "y_train = output[:612]\n",
    "\n",
    "tpot = TPOTClassifier(generations=10, population_size=40, verbosity=2)\n",
    "tpot.fit(X_train, y_train)\n",
    "#print(tpot.score(X_test, y_test))\n",
    "tpot.export('tpot_soccer_pipeline.py')"
   ]
  },
  {
   "cell_type": "markdown",
   "metadata": {
    "collapsed": true
   },
   "source": [
    "# TPOT results in Gaussian Naive Bayes"
   ]
  },
  {
   "cell_type": "code",
   "execution_count": 46,
   "metadata": {
    "collapsed": false
   },
   "outputs": [
    {
     "name": "stdout",
     "output_type": "stream",
     "text": [
      "List of scores: [ 0.50381679  0.46845124  0.52873563]\n",
      "mean scoring: 0.500334556302\n",
      "Standard deviation between scorings: 0.0247338686006\n"
     ]
    }
   ],
   "source": [
    "from sklearn.cross_validation import train_test_split\n",
    "from sklearn.ensemble import VotingClassifier\n",
    "from sklearn.naive_bayes import GaussianNB\n",
    "from sklearn.pipeline import make_pipeline, make_union\n",
    "from sklearn.preprocessing import FunctionTransformer, Normalizer\n",
    "\n",
    "exported_pipeline = make_pipeline(\n",
    "    make_union(\n",
    "        make_union(\n",
    "            FunctionTransformer(lambda X: X),\n",
    "            FunctionTransformer(lambda X: X)\n",
    "        ),\n",
    "        Normalizer(norm=\"l1\")\n",
    "    ),\n",
    "    GaussianNB()\n",
    ")\n",
    "\n",
    "exported_pipeline.fit(X_train, y_train)\n",
    "\n",
    "scores = cross_val_score(exported_pipeline, input_features, output)\n",
    "\n",
    "report_scoring(scores)"
   ]
  },
  {
   "cell_type": "code",
   "execution_count": null,
   "metadata": {
    "collapsed": true
   },
   "outputs": [],
   "source": []
  }
 ],
 "metadata": {
  "kernelspec": {
   "display_name": "Python 2",
   "language": "python",
   "name": "python2"
  },
  "language_info": {
   "codemirror_mode": {
    "name": "ipython",
    "version": 2
   },
   "file_extension": ".py",
   "mimetype": "text/x-python",
   "name": "python",
   "nbconvert_exporter": "python",
   "pygments_lexer": "ipython2",
   "version": "2.7.12"
  }
 },
 "nbformat": 4,
 "nbformat_minor": 0
}
