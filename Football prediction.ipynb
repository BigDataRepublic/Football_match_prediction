{
 "cells": [
  {
   "cell_type": "markdown",
   "metadata": {},
   "source": [
    "# Read CSV"
   ]
  },
  {
   "cell_type": "code",
   "execution_count": 1,
   "metadata": {
    "collapsed": true
   },
   "outputs": [],
   "source": [
    "import pandas as pd\n",
    "import numpy as np"
   ]
  },
  {
   "cell_type": "markdown",
   "metadata": {},
   "source": [
    "# Italian league"
   ]
  },
  {
   "cell_type": "code",
   "execution_count": 2,
   "metadata": {
    "collapsed": false
   },
   "outputs": [],
   "source": [
    "#data = pd.read_csv(\"SerieA-B/Serie_A-B_stats.csv\")"
   ]
  },
  {
   "cell_type": "markdown",
   "metadata": {},
   "source": [
    "# Dutch league"
   ]
  },
  {
   "cell_type": "code",
   "execution_count": 3,
   "metadata": {
    "collapsed": false
   },
   "outputs": [],
   "source": [
    "import os\n",
    "data_folder = \"Eredivisie\"\n",
    "data_frames = []\n",
    "for data_file in os.listdir(data_folder):\n",
    "    if data_file[-4:] == \".csv\":\n",
    "        data_frames.append(pd.read_csv(os.path.join(data_folder,data_file)))\n",
    "        \n",
    "data = pd.concat(data_frames)"
   ]
  },
  {
   "cell_type": "code",
   "execution_count": 4,
   "metadata": {
    "collapsed": false
   },
   "outputs": [
    {
     "data": {
      "text/html": [
       "<div>\n",
       "<table border=\"1\" class=\"dataframe\">\n",
       "  <thead>\n",
       "    <tr style=\"text-align: right;\">\n",
       "      <th></th>\n",
       "      <th>AwayTeam</th>\n",
       "      <th>B365A</th>\n",
       "      <th>B365D</th>\n",
       "      <th>B365H</th>\n",
       "      <th>BSA</th>\n",
       "      <th>BSD</th>\n",
       "      <th>BSH</th>\n",
       "      <th>BWA</th>\n",
       "      <th>BWD</th>\n",
       "      <th>BWH</th>\n",
       "      <th>...</th>\n",
       "      <th>SJH</th>\n",
       "      <th>Unnamed: 58</th>\n",
       "      <th>Unnamed: 59</th>\n",
       "      <th>Unnamed: 60</th>\n",
       "      <th>VCA</th>\n",
       "      <th>VCD</th>\n",
       "      <th>VCH</th>\n",
       "      <th>WHA</th>\n",
       "      <th>WHD</th>\n",
       "      <th>WHH</th>\n",
       "    </tr>\n",
       "  </thead>\n",
       "  <tbody>\n",
       "    <tr>\n",
       "      <th>0</th>\n",
       "      <td>Feyenoord</td>\n",
       "      <td>2.1</td>\n",
       "      <td>3.4</td>\n",
       "      <td>3.4</td>\n",
       "      <td>1.91</td>\n",
       "      <td>3.5</td>\n",
       "      <td>3.75</td>\n",
       "      <td>1.91</td>\n",
       "      <td>3.5</td>\n",
       "      <td>3.4</td>\n",
       "      <td>...</td>\n",
       "      <td>3.4</td>\n",
       "      <td>NaN</td>\n",
       "      <td>NaN</td>\n",
       "      <td>NaN</td>\n",
       "      <td>1.95</td>\n",
       "      <td>3.5</td>\n",
       "      <td>3.75</td>\n",
       "      <td>1.83</td>\n",
       "      <td>3.5</td>\n",
       "      <td>3.75</td>\n",
       "    </tr>\n",
       "  </tbody>\n",
       "</table>\n",
       "<p>1 rows × 67 columns</p>\n",
       "</div>"
      ],
      "text/plain": [
       "    AwayTeam  B365A  B365D  B365H   BSA  BSD   BSH   BWA  BWD  BWH  ...   SJH  \\\n",
       "0  Feyenoord    2.1    3.4    3.4  1.91  3.5  3.75  1.91  3.5  3.4  ...   3.4   \n",
       "\n",
       "   Unnamed: 58  Unnamed: 59  Unnamed: 60   VCA  VCD   VCH   WHA  WHD   WHH  \n",
       "0          NaN          NaN          NaN  1.95  3.5  3.75  1.83  3.5  3.75  \n",
       "\n",
       "[1 rows x 67 columns]"
      ]
     },
     "execution_count": 4,
     "metadata": {},
     "output_type": "execute_result"
    }
   ],
   "source": [
    "data.head(1)"
   ]
  },
  {
   "cell_type": "code",
   "execution_count": 5,
   "metadata": {
    "collapsed": false
   },
   "outputs": [
    {
     "data": {
      "text/plain": [
       "array(['AwayTeam', 'B365A', 'B365D', 'B365H', 'BSA', 'BSD', 'BSH', 'BWA',\n",
       "       'BWD', 'BWH', 'Bb1X2', 'BbAH', 'BbAHh', 'BbAv<2.5', 'BbAv>2.5',\n",
       "       'BbAvA', 'BbAvAHA', 'BbAvAHH', 'BbAvD', 'BbAvH', 'BbMx<2.5',\n",
       "       'BbMx>2.5', 'BbMxA', 'BbMxAHA', 'BbMxAHH', 'BbMxD', 'BbMxH', 'BbOU',\n",
       "       'Date', 'Div', 'FTAG', 'FTHG', 'FTR', 'GBA', 'GBD', 'GBH', 'HTAG',\n",
       "       'HTHG', 'HTR', 'HomeTeam', 'IWA', 'IWD', 'IWH', 'LBA', 'LBD', 'LBH',\n",
       "       'PSA', 'PSCA', 'PSCD', 'PSCH', 'PSD', 'PSH', 'SBA', 'SBD', 'SBH',\n",
       "       'SJA', 'SJD', 'SJH', 'Unnamed: 58', 'Unnamed: 59', 'Unnamed: 60',\n",
       "       'VCA', 'VCD', 'VCH', 'WHA', 'WHD', 'WHH'], dtype=object)"
      ]
     },
     "execution_count": 5,
     "metadata": {},
     "output_type": "execute_result"
    }
   ],
   "source": [
    "data.columns.values"
   ]
  },
  {
   "cell_type": "markdown",
   "metadata": {},
   "source": [
    "# Set Index"
   ]
  },
  {
   "cell_type": "code",
   "execution_count": 6,
   "metadata": {
    "collapsed": false
   },
   "outputs": [],
   "source": [
    "data['Date'] = pd.to_datetime(data['Date'], format='%d/%m/%y')\n",
    "all_data = data.set_index('Date')"
   ]
  },
  {
   "cell_type": "markdown",
   "metadata": {},
   "source": [
    "# Select features"
   ]
  },
  {
   "cell_type": "code",
   "execution_count": 7,
   "metadata": {
    "collapsed": false
   },
   "outputs": [
    {
     "data": {
      "text/html": [
       "<div>\n",
       "<table border=\"1\" class=\"dataframe\">\n",
       "  <thead>\n",
       "    <tr style=\"text-align: right;\">\n",
       "      <th></th>\n",
       "      <th>HomeTeam</th>\n",
       "      <th>AwayTeam</th>\n",
       "      <th>FTR</th>\n",
       "      <th>FTHG</th>\n",
       "      <th>FTAG</th>\n",
       "    </tr>\n",
       "    <tr>\n",
       "      <th>Date</th>\n",
       "      <th></th>\n",
       "      <th></th>\n",
       "      <th></th>\n",
       "      <th></th>\n",
       "      <th></th>\n",
       "    </tr>\n",
       "  </thead>\n",
       "  <tbody>\n",
       "    <tr>\n",
       "      <th>2011-08-05</th>\n",
       "      <td>Excelsior</td>\n",
       "      <td>Feyenoord</td>\n",
       "      <td>A</td>\n",
       "      <td>0.0</td>\n",
       "      <td>2.0</td>\n",
       "    </tr>\n",
       "    <tr>\n",
       "      <th>2011-08-06</th>\n",
       "      <td>Heerenveen</td>\n",
       "      <td>Nijmegen</td>\n",
       "      <td>D</td>\n",
       "      <td>2.0</td>\n",
       "      <td>2.0</td>\n",
       "    </tr>\n",
       "    <tr>\n",
       "      <th>2011-08-06</th>\n",
       "      <td>Roda</td>\n",
       "      <td>Groningen</td>\n",
       "      <td>H</td>\n",
       "      <td>2.0</td>\n",
       "      <td>1.0</td>\n",
       "    </tr>\n",
       "    <tr>\n",
       "      <th>2011-08-06</th>\n",
       "      <td>VVV Venlo</td>\n",
       "      <td>Utrecht</td>\n",
       "      <td>D</td>\n",
       "      <td>0.0</td>\n",
       "      <td>0.0</td>\n",
       "    </tr>\n",
       "    <tr>\n",
       "      <th>2011-08-06</th>\n",
       "      <td>Waalwijk</td>\n",
       "      <td>Heracles</td>\n",
       "      <td>D</td>\n",
       "      <td>2.0</td>\n",
       "      <td>2.0</td>\n",
       "    </tr>\n",
       "  </tbody>\n",
       "</table>\n",
       "</div>"
      ],
      "text/plain": [
       "              HomeTeam   AwayTeam FTR  FTHG  FTAG\n",
       "Date                                             \n",
       "2011-08-05   Excelsior  Feyenoord   A   0.0   2.0\n",
       "2011-08-06  Heerenveen   Nijmegen   D   2.0   2.0\n",
       "2011-08-06        Roda  Groningen   H   2.0   1.0\n",
       "2011-08-06   VVV Venlo    Utrecht   D   0.0   0.0\n",
       "2011-08-06    Waalwijk   Heracles   D   2.0   2.0"
      ]
     },
     "execution_count": 7,
     "metadata": {},
     "output_type": "execute_result"
    }
   ],
   "source": [
    "data = all_data[['HomeTeam', 'AwayTeam', 'FTR', 'FTHG', 'FTAG']] \n",
    "data.head(5)"
   ]
  },
  {
   "cell_type": "code",
   "execution_count": 8,
   "metadata": {
    "collapsed": false
   },
   "outputs": [
    {
     "data": {
      "text/html": [
       "<div>\n",
       "<table border=\"1\" class=\"dataframe\">\n",
       "  <thead>\n",
       "    <tr style=\"text-align: right;\">\n",
       "      <th></th>\n",
       "      <th>HomeTeam</th>\n",
       "      <th>AwayTeam</th>\n",
       "      <th>FTR</th>\n",
       "      <th>FTHG</th>\n",
       "      <th>FTAG</th>\n",
       "    </tr>\n",
       "    <tr>\n",
       "      <th>Date</th>\n",
       "      <th></th>\n",
       "      <th></th>\n",
       "      <th></th>\n",
       "      <th></th>\n",
       "      <th></th>\n",
       "    </tr>\n",
       "  </thead>\n",
       "  <tbody>\n",
       "    <tr>\n",
       "      <th>2016-10-01</th>\n",
       "      <td>Vitesse</td>\n",
       "      <td>Groningen</td>\n",
       "      <td>H</td>\n",
       "      <td>2.0</td>\n",
       "      <td>1.0</td>\n",
       "    </tr>\n",
       "    <tr>\n",
       "      <th>2016-10-02</th>\n",
       "      <td>Ajax</td>\n",
       "      <td>Utrecht</td>\n",
       "      <td>H</td>\n",
       "      <td>3.0</td>\n",
       "      <td>2.0</td>\n",
       "    </tr>\n",
       "    <tr>\n",
       "      <th>2016-10-02</th>\n",
       "      <td>Heracles</td>\n",
       "      <td>Twente</td>\n",
       "      <td>D</td>\n",
       "      <td>1.0</td>\n",
       "      <td>1.0</td>\n",
       "    </tr>\n",
       "    <tr>\n",
       "      <th>2016-10-02</th>\n",
       "      <td>Sparta Rotterdam</td>\n",
       "      <td>AZ Alkmaar</td>\n",
       "      <td>D</td>\n",
       "      <td>1.0</td>\n",
       "      <td>1.0</td>\n",
       "    </tr>\n",
       "    <tr>\n",
       "      <th>2016-10-02</th>\n",
       "      <td>Willem II</td>\n",
       "      <td>Feyenoord</td>\n",
       "      <td>A</td>\n",
       "      <td>0.0</td>\n",
       "      <td>2.0</td>\n",
       "    </tr>\n",
       "  </tbody>\n",
       "</table>\n",
       "</div>"
      ],
      "text/plain": [
       "                    HomeTeam    AwayTeam FTR  FTHG  FTAG\n",
       "Date                                                    \n",
       "2016-10-01           Vitesse   Groningen   H   2.0   1.0\n",
       "2016-10-02              Ajax     Utrecht   H   3.0   2.0\n",
       "2016-10-02          Heracles      Twente   D   1.0   1.0\n",
       "2016-10-02  Sparta Rotterdam  AZ Alkmaar   D   1.0   1.0\n",
       "2016-10-02         Willem II   Feyenoord   A   0.0   2.0"
      ]
     },
     "execution_count": 8,
     "metadata": {},
     "output_type": "execute_result"
    }
   ],
   "source": [
    "data.tail(5)"
   ]
  },
  {
   "cell_type": "code",
   "execution_count": 9,
   "metadata": {
    "collapsed": false
   },
   "outputs": [],
   "source": [
    "input_features = data"
   ]
  },
  {
   "cell_type": "code",
   "execution_count": 10,
   "metadata": {
    "collapsed": false
   },
   "outputs": [],
   "source": [
    "g = input_features.columns.to_series().groupby(data.dtypes).groups"
   ]
  },
  {
   "cell_type": "code",
   "execution_count": 11,
   "metadata": {
    "collapsed": false
   },
   "outputs": [],
   "source": [
    "object_features = {key.name: value for key, value in g.items()}['object']"
   ]
  },
  {
   "cell_type": "code",
   "execution_count": 12,
   "metadata": {
    "collapsed": false
   },
   "outputs": [
    {
     "data": {
      "text/plain": [
       "['HomeTeam', 'AwayTeam', 'FTR']"
      ]
     },
     "execution_count": 12,
     "metadata": {},
     "output_type": "execute_result"
    }
   ],
   "source": [
    "object_features"
   ]
  },
  {
   "cell_type": "markdown",
   "metadata": {},
   "source": [
    "# Create performance history per team"
   ]
  },
  {
   "cell_type": "markdown",
   "metadata": {},
   "source": [
    "1. Track winning or losing streak as feature\n",
    "2. Track total wins, losses and draws"
   ]
  },
  {
   "cell_type": "code",
   "execution_count": 13,
   "metadata": {
    "collapsed": false
   },
   "outputs": [],
   "source": [
    "class Stats:\n",
    "    def __init__(self):\n",
    "        self.win_streak = 0\n",
    "        self.lose_streak = 0\n",
    "        self.total_wins = 0\n",
    "        self.total_losses = 0\n",
    "        self.total_draws = 0\n",
    "        self.total_games = 0\n",
    "        self.previous_encounters = {}\n",
    "        self.result_series = []\n",
    "        \n",
    "    def get_win_ratio(self):\n",
    "        try:\n",
    "            return (float(self.total_wins) / float(self.total_games))\n",
    "        except:\n",
    "            return(0)\n",
    "        \n",
    "    def get_win_ratio_against_opponent(self, opponent):\n",
    "        try:\n",
    "            results = self.previous_encounters[opponent]\n",
    "            return sum(results)\n",
    "        except:\n",
    "            return(0)\n",
    "        \n",
    "    def games_played_in_period(self, today, period):\n",
    "        games_played = 0\n",
    "        for match in reversed(self.result_series):\n",
    "            days_ago = (today - match[\"date\"]).days\n",
    "            if days_ago > period:\n",
    "                return games_played\n",
    "            else:\n",
    "                games_played = games_played + 1\n",
    "        return games_played\n",
    "        \n",
    "    def average_goals_scored_and_conceded(self, number_of_games):\n",
    "        if self.total_games == 0:\n",
    "            return (0,0)\n",
    "        elif number_of_games > self.total_games:\n",
    "            number_of_games = self.total_games\n",
    "        games = self.result_series[-number_of_games:]\n",
    "        goals_scored = 0\n",
    "        goals_conceded = 0\n",
    "        for game in games:\n",
    "            goals_scored = goals_scored + game[\"goals_scored\"]\n",
    "            goals_conceded = goals_conceded + game[\"goals_conceded\"]\n",
    "            \n",
    "        return (goals_scored/number_of_games, goals_conceded/number_of_games)\n",
    "    \n",
    "    def days_since_last_match(self,today):\n",
    "        if len(self.result_series) == 0:\n",
    "            return 365\n",
    "        last_match_date = self.result_series[-1][\"date\"]\n",
    "        return((today-last_match_date).days)\n",
    "            \n",
    "    #Results: 1 = win, 0 = draw, -1 = loss for this team against the opponent\n",
    "    def update_previous_encounters(self, opponent, result):\n",
    "        if opponent in self.previous_encounters:\n",
    "            self.previous_encounters[opponent].append(result)\n",
    "        else:\n",
    "            self.previous_encounters[opponent] = [result]\n",
    "\n",
    "    def update_result(self, opponent, goals_scored, goals_conceded, date):\n",
    "        if pd.isnull(goals_scored) or pd.isnull(goals_conceded):\n",
    "            return False\n",
    "        result = 2\n",
    "        if(goals_scored > goals_conceded):\n",
    "            result = 1\n",
    "            self.update_win()\n",
    "        elif(goals_scored < goals_conceded):\n",
    "            result = -1\n",
    "            self.update_loss()\n",
    "        else:\n",
    "            result = 0\n",
    "            self.update_draw()\n",
    "        self.result_series.append({\"result\":result, \"goals_scored\":goals_scored, \"goals_conceded\":goals_conceded, \"date\":date})\n",
    "        self.update_previous_encounters(opponent, result)\n",
    "    \n",
    "    def update_win(self):\n",
    "        self.win_streak = self.win_streak + 1\n",
    "        self.lose_streak = 0\n",
    "        self.total_wins = self.total_wins + 1\n",
    "        self.total_games = self.total_games + 1\n",
    "        \n",
    "    def update_loss(self):\n",
    "        self.lose_streak = self.lose_streak + 1\n",
    "        self.win_streak = 0\n",
    "        self.total_losses = self.total_losses + 1\n",
    "        self.total_games = self.total_games + 1\n",
    "    \n",
    "    def update_draw(self):\n",
    "        self.total_draws = self.total_draws + 1\n",
    "        self.win_streak = 0\n",
    "        self.lose_streak = 0\n",
    "        self.total_games = self.total_games + 1"
   ]
  },
  {
   "cell_type": "code",
   "execution_count": 14,
   "metadata": {
    "collapsed": false
   },
   "outputs": [],
   "source": [
    "teams = input_features.HomeTeam.unique()\n",
    "stats = {}\n",
    "for team in teams:\n",
    "    stats[team] = Stats()"
   ]
  },
  {
   "cell_type": "markdown",
   "metadata": {},
   "source": [
    "## Create feature arrays as columns for data frame"
   ]
  },
  {
   "cell_type": "code",
   "execution_count": 15,
   "metadata": {
    "collapsed": false
   },
   "outputs": [],
   "source": [
    "feature_names = [\"win_streak\",\n",
    "    \"lose_streak\",\n",
    "    \"total_wins\",\n",
    "    \"total_losses\",\n",
    "    \"total_draws\",\n",
    "    \"win_ratio\",\n",
    "    \"opponent_win_ratio\",\n",
    "    \"total_games\",\n",
    "    \"goals_scored\",\n",
    "    \"goals_conceded\",\n",
    "    \"days_since_last_match\",\n",
    "    \"games_played_in_two_weeks\"]\n",
    "\n",
    "home_results = {}\n",
    "away_results = {}\n",
    "\n",
    "for feature in feature_names:\n",
    "    home_results[feature] = []\n",
    "    away_results[feature] = []"
   ]
  },
  {
   "cell_type": "markdown",
   "metadata": {},
   "source": [
    "## Add aggregated stats from previous matches as features then update stats based on this match"
   ]
  },
  {
   "cell_type": "code",
   "execution_count": 16,
   "metadata": {
    "collapsed": false
   },
   "outputs": [],
   "source": [
    "def update_results(results, stats, opponent,date):\n",
    "    results[\"win_streak\"].append(stats.win_streak)\n",
    "    results[\"lose_streak\"].append(stats.lose_streak)\n",
    "    results[\"total_wins\"].append(stats.total_wins)\n",
    "    results[\"total_losses\"].append(stats.total_losses)\n",
    "    results[\"total_draws\"].append(stats.total_draws)\n",
    "    results[\"win_ratio\"].append(stats.get_win_ratio())\n",
    "    results[\"opponent_win_ratio\"].append(stats.get_win_ratio_against_opponent(opponent))\n",
    "    results[\"total_games\"].append(stats.total_games)\n",
    "    goals_scored, goals_conceded = stats.average_goals_scored_and_conceded(10)\n",
    "    if pd.isnull(goals_scored):\n",
    "        print(stats.result_series[-3:])\n",
    "    results[\"goals_scored\"].append(goals_scored)\n",
    "    results[\"goals_conceded\"].append(goals_conceded)\n",
    "    results[\"days_since_last_match\"].append(stats.days_since_last_match(date))\n",
    "    results[\"games_played_in_two_weeks\"].append(stats.games_played_in_period(date, 14))\n",
    "\n",
    "    return results\n",
    "    \n",
    "\n",
    "for date, match in input_features.iterrows():\n",
    "    home_team = match.HomeTeam\n",
    "    home_stats = stats[home_team]\n",
    "    \n",
    "    away_team = match.AwayTeam\n",
    "    away_stats = stats[away_team]\n",
    "    \n",
    "    home_results = update_results(home_results, home_stats, away_team, date)\n",
    "\n",
    "    away_results = update_results(away_results, away_stats, home_team, date)\n",
    "    \n",
    "    #Update stats based on results of this match\n",
    "    match_result = match.FTR    \n",
    "    home_goals = match.FTHG\n",
    "    away_goals = match.FTAG\n",
    "        \n",
    "    \"\"\"if home_team == \"Ajax\":\n",
    "        #print(\"total wins: \" + str(home_stats.total_wins))\n",
    "        #print(\"total games: \" + str(home_stats.total_games))\n",
    "        #print(\"win ratio: \" + str(home_stats.get_win_ratio_against_opponent(away_team)))\n",
    "        print(\"today: \" + str(date))\n",
    "        print(\"days since last match \" + str(home_stats.days_since_last_match(date)))\n",
    "    elif away_team == \"Ajax\":\n",
    "        #print(\"total wins: \" + str(away_stats.total_wins))\n",
    "        #print(\"total games: \" + str(away_stats.total_games))\n",
    "        #print(\"win ratio: \" + str(away_stats.get_win_ratio_against_opponent(home_team)))\n",
    "        print(\"today: \" + str(date))\n",
    "        print(\"days since last match \" + str(away_stats.days_since_last_match(date)))\"\"\"\n",
    "        \n",
    "    home_stats.update_result(away_team,home_goals,away_goals, date)\n",
    "    away_stats.update_result(home_team,away_goals,home_goals, date)"
   ]
  },
  {
   "cell_type": "code",
   "execution_count": 17,
   "metadata": {
    "collapsed": false
   },
   "outputs": [
    {
     "data": {
      "text/plain": [
       "'if home_team == \"Juventus\" and away_team == \"Roma\":\\n    print(\"CHECK\")\\nif home_team == \"Roma\" and away_team == \"Juventus\":\\n    print(\"CHECK\")'"
      ]
     },
     "execution_count": 17,
     "metadata": {},
     "output_type": "execute_result"
    }
   ],
   "source": [
    "    \"\"\"if home_team == \"Juventus\" and away_team == \"Roma\":\n",
    "        print(\"CHECK\")\n",
    "    if home_team == \"Roma\" and away_team == \"Juventus\":\n",
    "        print(\"CHECK\")\"\"\""
   ]
  },
  {
   "cell_type": "code",
   "execution_count": 18,
   "metadata": {
    "collapsed": false
   },
   "outputs": [],
   "source": [
    "columns = {}\n",
    "\n",
    "for column_name, column  in home_results.iteritems():\n",
    "    columns[\"home_\" + column_name] = column\n",
    " \n",
    "for column_name, column  in away_results.iteritems():\n",
    "    columns[\"away_\" + column_name] = column"
   ]
  },
  {
   "cell_type": "code",
   "execution_count": 19,
   "metadata": {
    "collapsed": false
   },
   "outputs": [],
   "source": [
    "input_features = pd.DataFrame(data=columns, index=data.index.values)"
   ]
  },
  {
   "cell_type": "code",
   "execution_count": 20,
   "metadata": {
    "collapsed": false
   },
   "outputs": [],
   "source": [
    "#input_features = input_features.drop([\"away_total_losses\", \"home_total_losses\", \"away_total_wins\", \"home_total_wins\", \"away_total_draws\", \"home_total_draws\"], 1)\n",
    "#input_features = input_features[['home_win_streak', 'away_win_streak', 'home_lose_streak', 'away_lose_streak', 'home_win_ratio', 'away_win_ratio', 'home_days_since_last_match', 'away_days_since_last_match', 'home_opponent_win_ratio', 'away_opponent_win_ratio', 'home_games_played_in_two_weeks', 'away_games_played_in_two_weeks']]"
   ]
  },
  {
   "cell_type": "code",
   "execution_count": 21,
   "metadata": {
    "collapsed": false
   },
   "outputs": [
    {
     "data": {
      "text/html": [
       "<div>\n",
       "<table border=\"1\" class=\"dataframe\">\n",
       "  <thead>\n",
       "    <tr style=\"text-align: right;\">\n",
       "      <th></th>\n",
       "      <th>away_days_since_last_match</th>\n",
       "      <th>away_games_played_in_two_weeks</th>\n",
       "      <th>away_goals_conceded</th>\n",
       "      <th>away_goals_scored</th>\n",
       "      <th>away_lose_streak</th>\n",
       "      <th>away_opponent_win_ratio</th>\n",
       "      <th>away_total_draws</th>\n",
       "      <th>away_total_games</th>\n",
       "      <th>away_total_losses</th>\n",
       "      <th>away_total_wins</th>\n",
       "      <th>...</th>\n",
       "      <th>home_goals_conceded</th>\n",
       "      <th>home_goals_scored</th>\n",
       "      <th>home_lose_streak</th>\n",
       "      <th>home_opponent_win_ratio</th>\n",
       "      <th>home_total_draws</th>\n",
       "      <th>home_total_games</th>\n",
       "      <th>home_total_losses</th>\n",
       "      <th>home_total_wins</th>\n",
       "      <th>home_win_ratio</th>\n",
       "      <th>home_win_streak</th>\n",
       "    </tr>\n",
       "  </thead>\n",
       "  <tbody>\n",
       "    <tr>\n",
       "      <th>2011-08-05</th>\n",
       "      <td>365</td>\n",
       "      <td>0</td>\n",
       "      <td>0.0</td>\n",
       "      <td>0.0</td>\n",
       "      <td>0</td>\n",
       "      <td>0</td>\n",
       "      <td>0</td>\n",
       "      <td>0</td>\n",
       "      <td>0</td>\n",
       "      <td>0</td>\n",
       "      <td>...</td>\n",
       "      <td>0.0</td>\n",
       "      <td>0.0</td>\n",
       "      <td>0</td>\n",
       "      <td>0</td>\n",
       "      <td>0</td>\n",
       "      <td>0</td>\n",
       "      <td>0</td>\n",
       "      <td>0</td>\n",
       "      <td>0.0</td>\n",
       "      <td>0</td>\n",
       "    </tr>\n",
       "    <tr>\n",
       "      <th>2011-08-06</th>\n",
       "      <td>365</td>\n",
       "      <td>0</td>\n",
       "      <td>0.0</td>\n",
       "      <td>0.0</td>\n",
       "      <td>0</td>\n",
       "      <td>0</td>\n",
       "      <td>0</td>\n",
       "      <td>0</td>\n",
       "      <td>0</td>\n",
       "      <td>0</td>\n",
       "      <td>...</td>\n",
       "      <td>0.0</td>\n",
       "      <td>0.0</td>\n",
       "      <td>0</td>\n",
       "      <td>0</td>\n",
       "      <td>0</td>\n",
       "      <td>0</td>\n",
       "      <td>0</td>\n",
       "      <td>0</td>\n",
       "      <td>0.0</td>\n",
       "      <td>0</td>\n",
       "    </tr>\n",
       "    <tr>\n",
       "      <th>2011-08-06</th>\n",
       "      <td>365</td>\n",
       "      <td>0</td>\n",
       "      <td>0.0</td>\n",
       "      <td>0.0</td>\n",
       "      <td>0</td>\n",
       "      <td>0</td>\n",
       "      <td>0</td>\n",
       "      <td>0</td>\n",
       "      <td>0</td>\n",
       "      <td>0</td>\n",
       "      <td>...</td>\n",
       "      <td>0.0</td>\n",
       "      <td>0.0</td>\n",
       "      <td>0</td>\n",
       "      <td>0</td>\n",
       "      <td>0</td>\n",
       "      <td>0</td>\n",
       "      <td>0</td>\n",
       "      <td>0</td>\n",
       "      <td>0.0</td>\n",
       "      <td>0</td>\n",
       "    </tr>\n",
       "    <tr>\n",
       "      <th>2011-08-06</th>\n",
       "      <td>365</td>\n",
       "      <td>0</td>\n",
       "      <td>0.0</td>\n",
       "      <td>0.0</td>\n",
       "      <td>0</td>\n",
       "      <td>0</td>\n",
       "      <td>0</td>\n",
       "      <td>0</td>\n",
       "      <td>0</td>\n",
       "      <td>0</td>\n",
       "      <td>...</td>\n",
       "      <td>0.0</td>\n",
       "      <td>0.0</td>\n",
       "      <td>0</td>\n",
       "      <td>0</td>\n",
       "      <td>0</td>\n",
       "      <td>0</td>\n",
       "      <td>0</td>\n",
       "      <td>0</td>\n",
       "      <td>0.0</td>\n",
       "      <td>0</td>\n",
       "    </tr>\n",
       "    <tr>\n",
       "      <th>2011-08-06</th>\n",
       "      <td>365</td>\n",
       "      <td>0</td>\n",
       "      <td>0.0</td>\n",
       "      <td>0.0</td>\n",
       "      <td>0</td>\n",
       "      <td>0</td>\n",
       "      <td>0</td>\n",
       "      <td>0</td>\n",
       "      <td>0</td>\n",
       "      <td>0</td>\n",
       "      <td>...</td>\n",
       "      <td>0.0</td>\n",
       "      <td>0.0</td>\n",
       "      <td>0</td>\n",
       "      <td>0</td>\n",
       "      <td>0</td>\n",
       "      <td>0</td>\n",
       "      <td>0</td>\n",
       "      <td>0</td>\n",
       "      <td>0.0</td>\n",
       "      <td>0</td>\n",
       "    </tr>\n",
       "    <tr>\n",
       "      <th>2011-08-07</th>\n",
       "      <td>365</td>\n",
       "      <td>0</td>\n",
       "      <td>0.0</td>\n",
       "      <td>0.0</td>\n",
       "      <td>0</td>\n",
       "      <td>0</td>\n",
       "      <td>0</td>\n",
       "      <td>0</td>\n",
       "      <td>0</td>\n",
       "      <td>0</td>\n",
       "      <td>...</td>\n",
       "      <td>0.0</td>\n",
       "      <td>0.0</td>\n",
       "      <td>0</td>\n",
       "      <td>0</td>\n",
       "      <td>0</td>\n",
       "      <td>0</td>\n",
       "      <td>0</td>\n",
       "      <td>0</td>\n",
       "      <td>0.0</td>\n",
       "      <td>0</td>\n",
       "    </tr>\n",
       "    <tr>\n",
       "      <th>2011-08-07</th>\n",
       "      <td>365</td>\n",
       "      <td>0</td>\n",
       "      <td>0.0</td>\n",
       "      <td>0.0</td>\n",
       "      <td>0</td>\n",
       "      <td>0</td>\n",
       "      <td>0</td>\n",
       "      <td>0</td>\n",
       "      <td>0</td>\n",
       "      <td>0</td>\n",
       "      <td>...</td>\n",
       "      <td>0.0</td>\n",
       "      <td>0.0</td>\n",
       "      <td>0</td>\n",
       "      <td>0</td>\n",
       "      <td>0</td>\n",
       "      <td>0</td>\n",
       "      <td>0</td>\n",
       "      <td>0</td>\n",
       "      <td>0.0</td>\n",
       "      <td>0</td>\n",
       "    </tr>\n",
       "    <tr>\n",
       "      <th>2011-08-07</th>\n",
       "      <td>365</td>\n",
       "      <td>0</td>\n",
       "      <td>0.0</td>\n",
       "      <td>0.0</td>\n",
       "      <td>0</td>\n",
       "      <td>0</td>\n",
       "      <td>0</td>\n",
       "      <td>0</td>\n",
       "      <td>0</td>\n",
       "      <td>0</td>\n",
       "      <td>...</td>\n",
       "      <td>0.0</td>\n",
       "      <td>0.0</td>\n",
       "      <td>0</td>\n",
       "      <td>0</td>\n",
       "      <td>0</td>\n",
       "      <td>0</td>\n",
       "      <td>0</td>\n",
       "      <td>0</td>\n",
       "      <td>0.0</td>\n",
       "      <td>0</td>\n",
       "    </tr>\n",
       "    <tr>\n",
       "      <th>2011-08-07</th>\n",
       "      <td>365</td>\n",
       "      <td>0</td>\n",
       "      <td>0.0</td>\n",
       "      <td>0.0</td>\n",
       "      <td>0</td>\n",
       "      <td>0</td>\n",
       "      <td>0</td>\n",
       "      <td>0</td>\n",
       "      <td>0</td>\n",
       "      <td>0</td>\n",
       "      <td>...</td>\n",
       "      <td>0.0</td>\n",
       "      <td>0.0</td>\n",
       "      <td>0</td>\n",
       "      <td>0</td>\n",
       "      <td>0</td>\n",
       "      <td>0</td>\n",
       "      <td>0</td>\n",
       "      <td>0</td>\n",
       "      <td>0.0</td>\n",
       "      <td>0</td>\n",
       "    </tr>\n",
       "    <tr>\n",
       "      <th>2011-08-13</th>\n",
       "      <td>7</td>\n",
       "      <td>1</td>\n",
       "      <td>1.0</td>\n",
       "      <td>2.0</td>\n",
       "      <td>0</td>\n",
       "      <td>0</td>\n",
       "      <td>0</td>\n",
       "      <td>1</td>\n",
       "      <td>0</td>\n",
       "      <td>1</td>\n",
       "      <td>...</td>\n",
       "      <td>0.0</td>\n",
       "      <td>2.0</td>\n",
       "      <td>0</td>\n",
       "      <td>0</td>\n",
       "      <td>0</td>\n",
       "      <td>1</td>\n",
       "      <td>0</td>\n",
       "      <td>1</td>\n",
       "      <td>1.0</td>\n",
       "      <td>1</td>\n",
       "    </tr>\n",
       "  </tbody>\n",
       "</table>\n",
       "<p>10 rows × 24 columns</p>\n",
       "</div>"
      ],
      "text/plain": [
       "            away_days_since_last_match  away_games_played_in_two_weeks  \\\n",
       "2011-08-05                         365                               0   \n",
       "2011-08-06                         365                               0   \n",
       "2011-08-06                         365                               0   \n",
       "2011-08-06                         365                               0   \n",
       "2011-08-06                         365                               0   \n",
       "2011-08-07                         365                               0   \n",
       "2011-08-07                         365                               0   \n",
       "2011-08-07                         365                               0   \n",
       "2011-08-07                         365                               0   \n",
       "2011-08-13                           7                               1   \n",
       "\n",
       "            away_goals_conceded  away_goals_scored  away_lose_streak  \\\n",
       "2011-08-05                  0.0                0.0                 0   \n",
       "2011-08-06                  0.0                0.0                 0   \n",
       "2011-08-06                  0.0                0.0                 0   \n",
       "2011-08-06                  0.0                0.0                 0   \n",
       "2011-08-06                  0.0                0.0                 0   \n",
       "2011-08-07                  0.0                0.0                 0   \n",
       "2011-08-07                  0.0                0.0                 0   \n",
       "2011-08-07                  0.0                0.0                 0   \n",
       "2011-08-07                  0.0                0.0                 0   \n",
       "2011-08-13                  1.0                2.0                 0   \n",
       "\n",
       "            away_opponent_win_ratio  away_total_draws  away_total_games  \\\n",
       "2011-08-05                        0                 0                 0   \n",
       "2011-08-06                        0                 0                 0   \n",
       "2011-08-06                        0                 0                 0   \n",
       "2011-08-06                        0                 0                 0   \n",
       "2011-08-06                        0                 0                 0   \n",
       "2011-08-07                        0                 0                 0   \n",
       "2011-08-07                        0                 0                 0   \n",
       "2011-08-07                        0                 0                 0   \n",
       "2011-08-07                        0                 0                 0   \n",
       "2011-08-13                        0                 0                 1   \n",
       "\n",
       "            away_total_losses  away_total_wins       ...         \\\n",
       "2011-08-05                  0                0       ...          \n",
       "2011-08-06                  0                0       ...          \n",
       "2011-08-06                  0                0       ...          \n",
       "2011-08-06                  0                0       ...          \n",
       "2011-08-06                  0                0       ...          \n",
       "2011-08-07                  0                0       ...          \n",
       "2011-08-07                  0                0       ...          \n",
       "2011-08-07                  0                0       ...          \n",
       "2011-08-07                  0                0       ...          \n",
       "2011-08-13                  0                1       ...          \n",
       "\n",
       "            home_goals_conceded  home_goals_scored  home_lose_streak  \\\n",
       "2011-08-05                  0.0                0.0                 0   \n",
       "2011-08-06                  0.0                0.0                 0   \n",
       "2011-08-06                  0.0                0.0                 0   \n",
       "2011-08-06                  0.0                0.0                 0   \n",
       "2011-08-06                  0.0                0.0                 0   \n",
       "2011-08-07                  0.0                0.0                 0   \n",
       "2011-08-07                  0.0                0.0                 0   \n",
       "2011-08-07                  0.0                0.0                 0   \n",
       "2011-08-07                  0.0                0.0                 0   \n",
       "2011-08-13                  0.0                2.0                 0   \n",
       "\n",
       "            home_opponent_win_ratio  home_total_draws  home_total_games  \\\n",
       "2011-08-05                        0                 0                 0   \n",
       "2011-08-06                        0                 0                 0   \n",
       "2011-08-06                        0                 0                 0   \n",
       "2011-08-06                        0                 0                 0   \n",
       "2011-08-06                        0                 0                 0   \n",
       "2011-08-07                        0                 0                 0   \n",
       "2011-08-07                        0                 0                 0   \n",
       "2011-08-07                        0                 0                 0   \n",
       "2011-08-07                        0                 0                 0   \n",
       "2011-08-13                        0                 0                 1   \n",
       "\n",
       "            home_total_losses  home_total_wins  home_win_ratio  \\\n",
       "2011-08-05                  0                0             0.0   \n",
       "2011-08-06                  0                0             0.0   \n",
       "2011-08-06                  0                0             0.0   \n",
       "2011-08-06                  0                0             0.0   \n",
       "2011-08-06                  0                0             0.0   \n",
       "2011-08-07                  0                0             0.0   \n",
       "2011-08-07                  0                0             0.0   \n",
       "2011-08-07                  0                0             0.0   \n",
       "2011-08-07                  0                0             0.0   \n",
       "2011-08-13                  0                1             1.0   \n",
       "\n",
       "            home_win_streak  \n",
       "2011-08-05                0  \n",
       "2011-08-06                0  \n",
       "2011-08-06                0  \n",
       "2011-08-06                0  \n",
       "2011-08-06                0  \n",
       "2011-08-07                0  \n",
       "2011-08-07                0  \n",
       "2011-08-07                0  \n",
       "2011-08-07                0  \n",
       "2011-08-13                1  \n",
       "\n",
       "[10 rows x 24 columns]"
      ]
     },
     "execution_count": 21,
     "metadata": {},
     "output_type": "execute_result"
    }
   ],
   "source": [
    "input_features.head(10)"
   ]
  },
  {
   "cell_type": "markdown",
   "metadata": {},
   "source": [
    "# Remove first half of a season so all stats have something to work with"
   ]
  },
  {
   "cell_type": "code",
   "execution_count": 22,
   "metadata": {
    "collapsed": false
   },
   "outputs": [],
   "source": [
    "#Season has 18 teams\n",
    "#Each team plays 36 matches\n",
    "#after 36 games each team should have played two games\n",
    "buffer_games = 36\n",
    "input_features = input_features[buffer_games:]"
   ]
  },
  {
   "cell_type": "code",
   "execution_count": 23,
   "metadata": {
    "collapsed": false
   },
   "outputs": [
    {
     "data": {
      "text/html": [
       "<div>\n",
       "<table border=\"1\" class=\"dataframe\">\n",
       "  <thead>\n",
       "    <tr style=\"text-align: right;\">\n",
       "      <th></th>\n",
       "      <th>away_days_since_last_match</th>\n",
       "      <th>away_games_played_in_two_weeks</th>\n",
       "      <th>away_goals_conceded</th>\n",
       "      <th>away_goals_scored</th>\n",
       "      <th>away_lose_streak</th>\n",
       "      <th>away_opponent_win_ratio</th>\n",
       "      <th>away_total_draws</th>\n",
       "      <th>away_total_games</th>\n",
       "      <th>away_total_losses</th>\n",
       "      <th>away_total_wins</th>\n",
       "      <th>...</th>\n",
       "      <th>home_goals_conceded</th>\n",
       "      <th>home_goals_scored</th>\n",
       "      <th>home_lose_streak</th>\n",
       "      <th>home_opponent_win_ratio</th>\n",
       "      <th>home_total_draws</th>\n",
       "      <th>home_total_games</th>\n",
       "      <th>home_total_losses</th>\n",
       "      <th>home_total_wins</th>\n",
       "      <th>home_win_ratio</th>\n",
       "      <th>home_win_streak</th>\n",
       "    </tr>\n",
       "  </thead>\n",
       "  <tbody>\n",
       "    <tr>\n",
       "      <th>2016-10-01</th>\n",
       "      <td>7</td>\n",
       "      <td>1</td>\n",
       "      <td>1.5</td>\n",
       "      <td>1.4</td>\n",
       "      <td>0</td>\n",
       "      <td>-4</td>\n",
       "      <td>47</td>\n",
       "      <td>177</td>\n",
       "      <td>68</td>\n",
       "      <td>62</td>\n",
       "      <td>...</td>\n",
       "      <td>1.400000</td>\n",
       "      <td>1.300000</td>\n",
       "      <td>1</td>\n",
       "      <td>4</td>\n",
       "      <td>46</td>\n",
       "      <td>177</td>\n",
       "      <td>51</td>\n",
       "      <td>80</td>\n",
       "      <td>0.451977</td>\n",
       "      <td>0</td>\n",
       "    </tr>\n",
       "    <tr>\n",
       "      <th>2016-10-02</th>\n",
       "      <td>7</td>\n",
       "      <td>1</td>\n",
       "      <td>1.9</td>\n",
       "      <td>1.3</td>\n",
       "      <td>0</td>\n",
       "      <td>1</td>\n",
       "      <td>43</td>\n",
       "      <td>177</td>\n",
       "      <td>66</td>\n",
       "      <td>68</td>\n",
       "      <td>...</td>\n",
       "      <td>0.700000</td>\n",
       "      <td>2.400000</td>\n",
       "      <td>0</td>\n",
       "      <td>-1</td>\n",
       "      <td>44</td>\n",
       "      <td>177</td>\n",
       "      <td>17</td>\n",
       "      <td>116</td>\n",
       "      <td>0.655367</td>\n",
       "      <td>4</td>\n",
       "    </tr>\n",
       "    <tr>\n",
       "      <th>2016-10-02</th>\n",
       "      <td>7</td>\n",
       "      <td>1</td>\n",
       "      <td>1.9</td>\n",
       "      <td>1.9</td>\n",
       "      <td>0</td>\n",
       "      <td>4</td>\n",
       "      <td>49</td>\n",
       "      <td>177</td>\n",
       "      <td>48</td>\n",
       "      <td>80</td>\n",
       "      <td>...</td>\n",
       "      <td>1.400000</td>\n",
       "      <td>1.000000</td>\n",
       "      <td>0</td>\n",
       "      <td>-4</td>\n",
       "      <td>41</td>\n",
       "      <td>177</td>\n",
       "      <td>80</td>\n",
       "      <td>56</td>\n",
       "      <td>0.316384</td>\n",
       "      <td>0</td>\n",
       "    </tr>\n",
       "    <tr>\n",
       "      <th>2016-10-02</th>\n",
       "      <td>8</td>\n",
       "      <td>2</td>\n",
       "      <td>0.9</td>\n",
       "      <td>2.1</td>\n",
       "      <td>0</td>\n",
       "      <td>0</td>\n",
       "      <td>37</td>\n",
       "      <td>177</td>\n",
       "      <td>57</td>\n",
       "      <td>83</td>\n",
       "      <td>...</td>\n",
       "      <td>1.285714</td>\n",
       "      <td>1.285714</td>\n",
       "      <td>1</td>\n",
       "      <td>0</td>\n",
       "      <td>1</td>\n",
       "      <td>7</td>\n",
       "      <td>3</td>\n",
       "      <td>3</td>\n",
       "      <td>0.428571</td>\n",
       "      <td>0</td>\n",
       "    </tr>\n",
       "    <tr>\n",
       "      <th>2016-10-02</th>\n",
       "      <td>7</td>\n",
       "      <td>2</td>\n",
       "      <td>0.4</td>\n",
       "      <td>2.5</td>\n",
       "      <td>0</td>\n",
       "      <td>3</td>\n",
       "      <td>34</td>\n",
       "      <td>177</td>\n",
       "      <td>38</td>\n",
       "      <td>105</td>\n",
       "      <td>...</td>\n",
       "      <td>1.500000</td>\n",
       "      <td>0.900000</td>\n",
       "      <td>0</td>\n",
       "      <td>-3</td>\n",
       "      <td>29</td>\n",
       "      <td>109</td>\n",
       "      <td>55</td>\n",
       "      <td>25</td>\n",
       "      <td>0.229358</td>\n",
       "      <td>0</td>\n",
       "    </tr>\n",
       "  </tbody>\n",
       "</table>\n",
       "<p>5 rows × 24 columns</p>\n",
       "</div>"
      ],
      "text/plain": [
       "            away_days_since_last_match  away_games_played_in_two_weeks  \\\n",
       "2016-10-01                           7                               1   \n",
       "2016-10-02                           7                               1   \n",
       "2016-10-02                           7                               1   \n",
       "2016-10-02                           8                               2   \n",
       "2016-10-02                           7                               2   \n",
       "\n",
       "            away_goals_conceded  away_goals_scored  away_lose_streak  \\\n",
       "2016-10-01                  1.5                1.4                 0   \n",
       "2016-10-02                  1.9                1.3                 0   \n",
       "2016-10-02                  1.9                1.9                 0   \n",
       "2016-10-02                  0.9                2.1                 0   \n",
       "2016-10-02                  0.4                2.5                 0   \n",
       "\n",
       "            away_opponent_win_ratio  away_total_draws  away_total_games  \\\n",
       "2016-10-01                       -4                47               177   \n",
       "2016-10-02                        1                43               177   \n",
       "2016-10-02                        4                49               177   \n",
       "2016-10-02                        0                37               177   \n",
       "2016-10-02                        3                34               177   \n",
       "\n",
       "            away_total_losses  away_total_wins       ...         \\\n",
       "2016-10-01                 68               62       ...          \n",
       "2016-10-02                 66               68       ...          \n",
       "2016-10-02                 48               80       ...          \n",
       "2016-10-02                 57               83       ...          \n",
       "2016-10-02                 38              105       ...          \n",
       "\n",
       "            home_goals_conceded  home_goals_scored  home_lose_streak  \\\n",
       "2016-10-01             1.400000           1.300000                 1   \n",
       "2016-10-02             0.700000           2.400000                 0   \n",
       "2016-10-02             1.400000           1.000000                 0   \n",
       "2016-10-02             1.285714           1.285714                 1   \n",
       "2016-10-02             1.500000           0.900000                 0   \n",
       "\n",
       "            home_opponent_win_ratio  home_total_draws  home_total_games  \\\n",
       "2016-10-01                        4                46               177   \n",
       "2016-10-02                       -1                44               177   \n",
       "2016-10-02                       -4                41               177   \n",
       "2016-10-02                        0                 1                 7   \n",
       "2016-10-02                       -3                29               109   \n",
       "\n",
       "            home_total_losses  home_total_wins  home_win_ratio  \\\n",
       "2016-10-01                 51               80        0.451977   \n",
       "2016-10-02                 17              116        0.655367   \n",
       "2016-10-02                 80               56        0.316384   \n",
       "2016-10-02                  3                3        0.428571   \n",
       "2016-10-02                 55               25        0.229358   \n",
       "\n",
       "            home_win_streak  \n",
       "2016-10-01                0  \n",
       "2016-10-02                4  \n",
       "2016-10-02                0  \n",
       "2016-10-02                0  \n",
       "2016-10-02                0  \n",
       "\n",
       "[5 rows x 24 columns]"
      ]
     },
     "execution_count": 23,
     "metadata": {},
     "output_type": "execute_result"
    }
   ],
   "source": [
    "input_features.tail(5)"
   ]
  },
  {
   "cell_type": "markdown",
   "metadata": {},
   "source": [
    "# Check for unusable fields"
   ]
  },
  {
   "cell_type": "code",
   "execution_count": 24,
   "metadata": {
    "collapsed": false
   },
   "outputs": [],
   "source": [
    "column_names = list(input_features.columns.values)"
   ]
  },
  {
   "cell_type": "markdown",
   "metadata": {},
   "source": [
    "## Infinite values"
   ]
  },
  {
   "cell_type": "code",
   "execution_count": 25,
   "metadata": {
    "collapsed": false
   },
   "outputs": [
    {
     "name": "stdout",
     "output_type": "stream",
     "text": [
      "away_days_since_last_match: 0\n",
      "away_games_played_in_two_weeks: 0\n",
      "away_goals_conceded: 0\n",
      "away_goals_scored: 0\n",
      "away_lose_streak: 0\n",
      "away_opponent_win_ratio: 0\n",
      "away_total_draws: 0\n",
      "away_total_games: 0\n",
      "away_total_losses: 0\n",
      "away_total_wins: 0\n",
      "away_win_ratio: 0\n",
      "away_win_streak: 0\n",
      "home_days_since_last_match: 0\n",
      "home_games_played_in_two_weeks: 0\n",
      "home_goals_conceded: 0\n",
      "home_goals_scored: 0\n",
      "home_lose_streak: 0\n",
      "home_opponent_win_ratio: 0\n",
      "home_total_draws: 0\n",
      "home_total_games: 0\n",
      "home_total_losses: 0\n",
      "home_total_wins: 0\n",
      "home_win_ratio: 0\n",
      "home_win_streak: 0\n"
     ]
    }
   ],
   "source": [
    "for column in column_names:\n",
    "    total_infinite_values = sum(np.isinf(input_features[column]))\n",
    "    print (column + \": \" + str(total_infinite_values))"
   ]
  },
  {
   "cell_type": "code",
   "execution_count": 26,
   "metadata": {
    "collapsed": false
   },
   "outputs": [
    {
     "name": "stdout",
     "output_type": "stream",
     "text": [
      "away_days_since_last_match: 0\n",
      "away_games_played_in_two_weeks: 0\n",
      "away_goals_conceded: 0\n",
      "away_goals_scored: 0\n",
      "away_lose_streak: 0\n",
      "away_opponent_win_ratio: 0\n",
      "away_total_draws: 0\n",
      "away_total_games: 0\n",
      "away_total_losses: 0\n",
      "away_total_wins: 0\n",
      "away_win_ratio: 0\n",
      "away_win_streak: 0\n",
      "home_days_since_last_match: 0\n",
      "home_games_played_in_two_weeks: 0\n",
      "home_goals_conceded: 0\n",
      "home_goals_scored: 0\n",
      "home_lose_streak: 0\n",
      "home_opponent_win_ratio: 0\n",
      "home_total_draws: 0\n",
      "home_total_games: 0\n",
      "home_total_losses: 0\n",
      "home_total_wins: 0\n",
      "home_win_ratio: 0\n",
      "home_win_streak: 0\n"
     ]
    }
   ],
   "source": [
    "for column in column_names:\n",
    "    total_NaN_values = sum(np.isnan(input_features[column]))\n",
    "    print (column + \": \" + str(total_NaN_values))"
   ]
  },
  {
   "cell_type": "markdown",
   "metadata": {},
   "source": [
    "#### Full time result as output\n",
    "### First convert output to numeric for easyer processing"
   ]
  },
  {
   "cell_type": "code",
   "execution_count": 31,
   "metadata": {
    "collapsed": false
   },
   "outputs": [
    {
     "data": {
      "text/plain": [
       "<matplotlib.axes._subplots.AxesSubplot at 0xa74d400>"
      ]
     },
     "execution_count": 31,
     "metadata": {},
     "output_type": "execute_result"
    },
    {
     "data": {
      "image/png": "[encoded data removed]",
      "text/plain": [
       "<matplotlib.figure.Figure at 0xac92f60>"
      ]
     },
     "metadata": {},
     "output_type": "display_data"
    }
   ],
   "source": [
    "%matplotlib inline\n",
    "\n",
    "input_features.away_total_draws.hist()"
   ]
  },
  {
   "cell_type": "code",
   "execution_count": 32,
   "metadata": {
    "collapsed": false
   },
   "outputs": [],
   "source": [
    "def ResultToNumeric(results):\n",
    "    numericResults = []\n",
    "    for result in results:\n",
    "        if result == 'H':\n",
    "            numericResults.append(0)\n",
    "        elif result == 'A':\n",
    "            numericResults.append(1)\n",
    "        else:\n",
    "            numericResults.append(2)\n",
    "    return np.array(numericResults)\n",
    "\n",
    "output = ResultToNumeric(data['FTR'])\n",
    "output = output[buffer_games:]"
   ]
  },
  {
   "cell_type": "markdown",
   "metadata": {},
   "source": [
    "# Baseline model"
   ]
  },
  {
   "cell_type": "code",
   "execution_count": 33,
   "metadata": {
    "collapsed": false
   },
   "outputs": [
    {
     "data": {
      "text/plain": [
       "array([[  0, 721],\n",
       "       [  1, 464],\n",
       "       [  2, 384]], dtype=int64)"
      ]
     },
     "execution_count": 33,
     "metadata": {},
     "output_type": "execute_result"
    }
   ],
   "source": [
    "bins = np.bincount(output)\n",
    "index = np.nonzero(bins)[0]\n",
    "np.vstack((index,bins[index])).T"
   ]
  },
  {
   "cell_type": "markdown",
   "metadata": {},
   "source": [
    "## Predict all games as a home win will result in 721/1569=0.460"
   ]
  },
  {
   "cell_type": "markdown",
   "metadata": {},
   "source": [
    "# Try random forest"
   ]
  },
  {
   "cell_type": "code",
   "execution_count": 43,
   "metadata": {
    "collapsed": false
   },
   "outputs": [],
   "source": [
    "from sklearn.ensemble import RandomForestClassifier\n",
    "\n",
    "random_forest_model = RandomForestClassifier(n_estimators=300,\n",
    "                                                   max_features=7,\n",
    "                                                   max_depth=None,\n",
    "                                                   min_samples_split=10,\n",
    "                                                   n_jobs=-1)"
   ]
  },
  {
   "cell_type": "markdown",
   "metadata": {},
   "source": [
    "## Scoring"
   ]
  },
  {
   "cell_type": "code",
   "execution_count": 44,
   "metadata": {
    "collapsed": true
   },
   "outputs": [],
   "source": [
    "def report_scoring(scores):\n",
    "    print(\"List of scores: \" + str(scores))\n",
    "    print(\"mean scoring: \" + str(scores.mean()))\n",
    "    print(\"Standard deviation between scorings: \" + str(scores.std()))"
   ]
  },
  {
   "cell_type": "code",
   "execution_count": 45,
   "metadata": {
    "collapsed": false
   },
   "outputs": [
    {
     "name": "stdout",
     "output_type": "stream",
     "text": [
      "List of scores: [ 0.5         0.46462715  0.39655172]\n",
      "mean scoring: 0.45372629173\n",
      "Standard deviation between scorings: 0.0429302379462\n"
     ]
    }
   ],
   "source": [
    "from sklearn.model_selection import cross_val_score\n",
    "\n",
    "scores = cross_val_score(random_forest_model, input_features, output)\n",
    "\n",
    "report_scoring(scores)"
   ]
  },
  {
   "cell_type": "markdown",
   "metadata": {},
   "source": [
    "## Feature importance"
   ]
  },
  {
   "cell_type": "code",
   "execution_count": 32,
   "metadata": {
    "collapsed": false
   },
   "outputs": [
    {
     "data": {
      "text/plain": [
       "away_days_since_last_match        0.034171\n",
       "away_games_played_in_two_weeks    0.015635\n",
       "away_goals_conceded               0.054915\n",
       "away_goals_scored                 0.051632\n",
       "away_lose_streak                  0.016306\n",
       "away_opponent_win_ratio           0.028847\n",
       "away_total_draws                  0.045657\n",
       "away_total_games                  0.053459\n",
       "away_total_losses                 0.049818\n",
       "away_total_wins                   0.056336\n",
       "away_win_ratio                    0.075950\n",
       "away_win_streak                   0.020923\n",
       "home_days_since_last_match        0.034748\n",
       "home_games_played_in_two_weeks    0.015756\n",
       "home_goals_conceded               0.051910\n",
       "home_goals_scored                 0.053271\n",
       "home_lose_streak                  0.022074\n",
       "home_opponent_win_ratio           0.029178\n",
       "home_total_draws                  0.045498\n",
       "home_total_games                  0.048948\n",
       "home_total_losses                 0.048557\n",
       "home_total_wins                   0.051073\n",
       "home_win_ratio                    0.077969\n",
       "home_win_streak                   0.017369\n",
       "dtype: float64"
      ]
     },
     "execution_count": 32,
     "metadata": {},
     "output_type": "execute_result"
    }
   ],
   "source": [
    "trained_random_forest_model = random_forest_model.fit(input_features,output)\n",
    "pd.Series(trained_random_forest_model.feature_importances_, input_features.columns)"
   ]
  },
  {
   "cell_type": "markdown",
   "metadata": {},
   "source": [
    "# Boosted random forest"
   ]
  },
  {
   "cell_type": "code",
   "execution_count": 33,
   "metadata": {
    "collapsed": false
   },
   "outputs": [],
   "source": [
    "from sklearn.ensemble import AdaBoostClassifier\n",
    "\n",
    "boosted_random_forest_model = AdaBoostClassifier(n_estimators=1000)"
   ]
  },
  {
   "cell_type": "markdown",
   "metadata": {},
   "source": [
    "## Scoring"
   ]
  },
  {
   "cell_type": "code",
   "execution_count": 34,
   "metadata": {
    "collapsed": false
   },
   "outputs": [
    {
     "name": "stdout",
     "output_type": "stream",
     "text": [
      "List of scores: [ 0.3740458   0.41491396  0.33908046]\n",
      "mean scoring: 0.376013406411\n",
      "Standard deviation between scorings: 0.0309901431933\n"
     ]
    }
   ],
   "source": [
    "scores = cross_val_score(boosted_random_forest_model, input_features, output)\n",
    "\n",
    "report_scoring(scores)"
   ]
  },
  {
   "cell_type": "markdown",
   "metadata": {},
   "source": [
    "## Feature importance"
   ]
  },
  {
   "cell_type": "code",
   "execution_count": 35,
   "metadata": {
    "collapsed": false
   },
   "outputs": [
    {
     "data": {
      "text/plain": [
       "away_days_since_last_match        0.021\n",
       "away_games_played_in_two_weeks    0.000\n",
       "away_goals_conceded               0.033\n",
       "away_goals_scored                 0.041\n",
       "away_lose_streak                  0.006\n",
       "away_opponent_win_ratio           0.011\n",
       "away_total_draws                  0.055\n",
       "away_total_games                  0.096\n",
       "away_total_losses                 0.063\n",
       "away_total_wins                   0.056\n",
       "away_win_ratio                    0.108\n",
       "away_win_streak                   0.009\n",
       "home_days_since_last_match        0.020\n",
       "home_games_played_in_two_weeks    0.005\n",
       "home_goals_conceded               0.048\n",
       "home_goals_scored                 0.048\n",
       "home_lose_streak                  0.005\n",
       "home_opponent_win_ratio           0.009\n",
       "home_total_draws                  0.041\n",
       "home_total_games                  0.069\n",
       "home_total_losses                 0.052\n",
       "home_total_wins                   0.073\n",
       "home_win_ratio                    0.116\n",
       "home_win_streak                   0.015\n",
       "dtype: float64"
      ]
     },
     "execution_count": 35,
     "metadata": {},
     "output_type": "execute_result"
    }
   ],
   "source": [
    "trained_boosted_random_forest_model = boosted_random_forest_model.fit(input_features,output)\n",
    "pd.Series(trained_boosted_random_forest_model.feature_importances_, input_features.columns)"
   ]
  },
  {
   "cell_type": "markdown",
   "metadata": {},
   "source": [
    "# SVM"
   ]
  },
  {
   "cell_type": "code",
   "execution_count": 36,
   "metadata": {
    "collapsed": false
   },
   "outputs": [],
   "source": [
    "from sklearn import svm\n",
    "\n",
    "svm_model = svm.SVC()"
   ]
  },
  {
   "cell_type": "markdown",
   "metadata": {},
   "source": [
    "## Scoring"
   ]
  },
  {
   "cell_type": "code",
   "execution_count": 37,
   "metadata": {
    "collapsed": false
   },
   "outputs": [
    {
     "name": "stdout",
     "output_type": "stream",
     "text": [
      "List of scores: [ 0.45419847  0.45889101  0.45977011]\n",
      "mean scoring: 0.457619867203\n",
      "Standard deviation between scorings: 0.00244576602283\n"
     ]
    }
   ],
   "source": [
    "scores = cross_val_score(svm_model, input_features, output)\n",
    "\n",
    "report_scoring(scores)"
   ]
  },
  {
   "cell_type": "markdown",
   "metadata": {},
   "source": [
    "# TPOT"
   ]
  },
  {
   "cell_type": "code",
   "execution_count": 38,
   "metadata": {
    "collapsed": false,
    "scrolled": true
   },
   "outputs": [
    {
     "name": "stderr",
     "output_type": "stream",
     "text": []
    },
    {
     "name": "stdout",
     "output_type": "stream",
     "text": [
      "Generation 1 - Current Pareto front scores:\n"
     ]
    },
    {
     "name": "stderr",
     "output_type": "stream",
     "text": []
    },
    {
     "name": "stdout",
     "output_type": "stream",
     "text": [
      "1\t0.519535675218\tLinearSVC(input_matrix, 46.0, 47, False)\n"
     ]
    },
    {
     "name": "stderr",
     "output_type": "stream",
     "text": []
    },
    {
     "name": "stdout",
     "output_type": "stream",
     "text": [
      "2\t0.526135937975\tLogisticRegression(Nystroem(input_matrix, 50, 7.0, 11), 37.0, 13, False)\n"
     ]
    },
    {
     "name": "stderr",
     "output_type": "stream",
     "text": []
    },
    {
     "name": "stdout",
     "output_type": "stream",
     "text": [
      "\n"
     ]
    },
    {
     "name": "stderr",
     "output_type": "stream",
     "text": []
    },
    {
     "name": "stdout",
     "output_type": "stream",
     "text": [
      "Generation 2 - Current Pareto front scores:\n"
     ]
    },
    {
     "name": "stderr",
     "output_type": "stream",
     "text": []
    },
    {
     "name": "stdout",
     "output_type": "stream",
     "text": [
      "1\t0.519535675218\tLinearSVC(input_matrix, 46.0, 47, False)\n"
     ]
    },
    {
     "name": "stderr",
     "output_type": "stream",
     "text": []
    },
    {
     "name": "stdout",
     "output_type": "stream",
     "text": [
      "2\t0.526135937975\tLogisticRegression(Nystroem(input_matrix, 50, 7.0, 11), 37.0, 13, False)\n"
     ]
    },
    {
     "name": "stderr",
     "output_type": "stream",
     "text": []
    },
    {
     "name": "stdout",
     "output_type": "stream",
     "text": [
      "\n"
     ]
    },
    {
     "name": "stderr",
     "output_type": "stream",
     "text": []
    },
    {
     "name": "stdout",
     "output_type": "stream",
     "text": [
      "Generation 3 - Current Pareto front scores:\n"
     ]
    },
    {
     "name": "stderr",
     "output_type": "stream",
     "text": []
    },
    {
     "name": "stdout",
     "output_type": "stream",
     "text": [
      "1\t0.519567950533\tLogisticRegression(input_matrix, 0.10000000000000001, 0, True)\n"
     ]
    },
    {
     "name": "stderr",
     "output_type": "stream",
     "text": []
    },
    {
     "name": "stdout",
     "output_type": "stream",
     "text": [
      "2\t0.526135937975\tLogisticRegression(Nystroem(input_matrix, 50, 7.0, 11), 37.0, 13, False)\n"
     ]
    },
    {
     "name": "stderr",
     "output_type": "stream",
     "text": []
    },
    {
     "name": "stdout",
     "output_type": "stream",
     "text": [
      "3\t0.527777895571\tLinearSVC(PCA(Normalizer(input_matrix, 6), 8), 34.0, 1, False)\n"
     ]
    },
    {
     "name": "stderr",
     "output_type": "stream",
     "text": []
    },
    {
     "name": "stdout",
     "output_type": "stream",
     "text": [
      "\n"
     ]
    },
    {
     "name": "stderr",
     "output_type": "stream",
     "text": []
    },
    {
     "name": "stdout",
     "output_type": "stream",
     "text": [
      "Generation 4 - Current Pareto front scores:\n"
     ]
    },
    {
     "name": "stderr",
     "output_type": "stream",
     "text": []
    },
    {
     "name": "stdout",
     "output_type": "stream",
     "text": [
      "1\t0.519567950533\tLogisticRegression(input_matrix, 0.10000000000000001, 0, True)\n"
     ]
    },
    {
     "name": "stderr",
     "output_type": "stream",
     "text": []
    },
    {
     "name": "stdout",
     "output_type": "stream",
     "text": [
      "2\t0.529403911831\tLinearSVC(Normalizer(input_matrix, 6), 34.0, 1, False)\n"
     ]
    },
    {
     "name": "stderr",
     "output_type": "stream",
     "text": []
    },
    {
     "name": "stdout",
     "output_type": "stream",
     "text": [
      "\n"
     ]
    },
    {
     "name": "stderr",
     "output_type": "stream",
     "text": []
    },
    {
     "name": "stdout",
     "output_type": "stream",
     "text": [
      "Generation 5 - Current Pareto front scores:\n"
     ]
    },
    {
     "name": "stderr",
     "output_type": "stream",
     "text": []
    },
    {
     "name": "stdout",
     "output_type": "stream",
     "text": [
      "1\t0.531110184472\tLinearSVC(input_matrix, 0.0001, 47, False)\n"
     ]
    },
    {
     "name": "stderr",
     "output_type": "stream",
     "text": []
    },
    {
     "name": "stdout",
     "output_type": "stream",
     "text": [
      "\n"
     ]
    },
    {
     "name": "stderr",
     "output_type": "stream",
     "text": []
    },
    {
     "name": "stdout",
     "output_type": "stream",
     "text": [
      "Generation 6 - Current Pareto front scores:\n"
     ]
    },
    {
     "name": "stderr",
     "output_type": "stream",
     "text": []
    },
    {
     "name": "stdout",
     "output_type": "stream",
     "text": [
      "1\t0.531110184472\tLinearSVC(input_matrix, 0.0001, 47, False)\n"
     ]
    },
    {
     "name": "stderr",
     "output_type": "stream",
     "text": []
    },
    {
     "name": "stdout",
     "output_type": "stream",
     "text": [
      "3\t0.53591594754\tLinearSVC(LogisticRegression(Normalizer(input_matrix, 6), 28.0, 43, False), 34.0, 1, False)\n"
     ]
    },
    {
     "name": "stderr",
     "output_type": "stream",
     "text": []
    },
    {
     "name": "stdout",
     "output_type": "stream",
     "text": [
      "\n"
     ]
    },
    {
     "name": "stderr",
     "output_type": "stream",
     "text": []
    },
    {
     "name": "stdout",
     "output_type": "stream",
     "text": [
      "Generation 7 - Current Pareto front scores:\n"
     ]
    },
    {
     "name": "stderr",
     "output_type": "stream",
     "text": []
    },
    {
     "name": "stdout",
     "output_type": "stream",
     "text": [
      "1\t0.531110184472\tLinearSVC(input_matrix, 0.0001, 47, False)\n"
     ]
    },
    {
     "name": "stderr",
     "output_type": "stream",
     "text": []
    },
    {
     "name": "stdout",
     "output_type": "stream",
     "text": [
      "3\t0.53591594754\tLinearSVC(LogisticRegression(Normalizer(input_matrix, 6), 28.0, 43, False), 34.0, 1, False)\n"
     ]
    },
    {
     "name": "stderr",
     "output_type": "stream",
     "text": []
    },
    {
     "name": "stdout",
     "output_type": "stream",
     "text": [
      "\n"
     ]
    },
    {
     "name": "stderr",
     "output_type": "stream",
     "text": []
    },
    {
     "name": "stdout",
     "output_type": "stream",
     "text": [
      "Generation 8 - Current Pareto front scores:\n"
     ]
    },
    {
     "name": "stderr",
     "output_type": "stream",
     "text": []
    },
    {
     "name": "stdout",
     "output_type": "stream",
     "text": [
      "1\t0.531110184472\tLinearSVC(input_matrix, 0.0001, 47, False)\n"
     ]
    },
    {
     "name": "stderr",
     "output_type": "stream",
     "text": []
    },
    {
     "name": "stdout",
     "output_type": "stream",
     "text": [
      "2\t0.539256285637\tLinearSVC(RandomForestClassifier(input_matrix), 0.0001, 1, False)\n"
     ]
    },
    {
     "name": "stderr",
     "output_type": "stream",
     "text": []
    },
    {
     "name": "stdout",
     "output_type": "stream",
     "text": [
      "3\t0.539280354699\tLinearSVC(DecisionTreeClassifier(LogisticRegression(input_matrix, 0.95000000000000007, 25, False)), 0.0001, 47, False)\n"
     ]
    },
    {
     "name": "stderr",
     "output_type": "stream",
     "text": []
    },
    {
     "name": "stdout",
     "output_type": "stream",
     "text": [
      "\n"
     ]
    },
    {
     "name": "stderr",
     "output_type": "stream",
     "text": []
    },
    {
     "name": "stdout",
     "output_type": "stream",
     "text": [
      "Generation 9 - Current Pareto front scores:\n"
     ]
    },
    {
     "name": "stderr",
     "output_type": "stream",
     "text": []
    },
    {
     "name": "stdout",
     "output_type": "stream",
     "text": [
      "1\t0.531110184472\tLinearSVC(input_matrix, 0.0001, 47, False)\n"
     ]
    },
    {
     "name": "stderr",
     "output_type": "stream",
     "text": []
    },
    {
     "name": "stdout",
     "output_type": "stream",
     "text": [
      "2\t0.539256285637\tLinearSVC(RandomForestClassifier(input_matrix), 0.0001, 1, False)\n"
     ]
    },
    {
     "name": "stderr",
     "output_type": "stream",
     "text": []
    },
    {
     "name": "stdout",
     "output_type": "stream",
     "text": [
      "3\t0.539280354699\tLinearSVC(DecisionTreeClassifier(LogisticRegression(input_matrix, 0.95000000000000007, 25, False)), 0.0001, 47, False)\n"
     ]
    },
    {
     "name": "stderr",
     "output_type": "stream",
     "text": []
    },
    {
     "name": "stdout",
     "output_type": "stream",
     "text": [
      "\n"
     ]
    },
    {
     "name": "stderr",
     "output_type": "stream",
     "text": []
    },
    {
     "name": "stdout",
     "output_type": "stream",
     "text": [
      "Generation 10 - Current Pareto front scores:\n"
     ]
    },
    {
     "name": "stderr",
     "output_type": "stream",
     "text": []
    },
    {
     "name": "stdout",
     "output_type": "stream",
     "text": [
      "1\t0.531110184472\tLinearSVC(input_matrix, 0.0001, 47, False)\n"
     ]
    },
    {
     "name": "stderr",
     "output_type": "stream",
     "text": []
    },
    {
     "name": "stdout",
     "output_type": "stream",
     "text": [
      "2\t0.539256285637\tLinearSVC(RandomForestClassifier(input_matrix), 0.0001, 1, False)\n"
     ]
    },
    {
     "name": "stderr",
     "output_type": "stream",
     "text": []
    },
    {
     "name": "stdout",
     "output_type": "stream",
     "text": [
      "3\t0.539280354699\tLinearSVC(DecisionTreeClassifier(LogisticRegression(input_matrix, 0.95000000000000007, 25, False)), 0.0001, 47, False)\n"
     ]
    },
    {
     "name": "stderr",
     "output_type": "stream",
     "text": []
    },
    {
     "name": "stdout",
     "output_type": "stream",
     "text": [
      "\n"
     ]
    },
    {
     "name": "stderr",
     "output_type": "stream",
     "text": []
    }
   ],
   "source": [
    "from tpot import TPOTClassifier\n",
    "\n",
    "X_test = input_features.tail(612)\n",
    "y_test = output[-612]\n",
    "\n",
    "X_train = input_features[:612]\n",
    "y_train = output[:612]\n",
    "\n",
    "tpot = TPOTClassifier(generations=10, population_size=612, verbosity=3, scoring='accuracy')\n",
    "tpot.fit(X_train, y_train)\n",
    "#print(tpot.score(X_test, y_test))\n",
    "tpot.export('tpot_soccer_pipeline.py')"
   ]
  },
  {
   "cell_type": "markdown",
   "metadata": {
    "collapsed": true
   },
   "source": [
    "# TPOT results in Gaussian Naive Bayes"
   ]
  },
  {
   "cell_type": "code",
   "execution_count": 39,
   "metadata": {
    "collapsed": false
   },
   "outputs": [
    {
     "name": "stderr",
     "output_type": "stream",
     "text": [
      "C:\\Anaconda2\\lib\\site-packages\\sklearn\\cross_validation.py:44: DeprecationWarning: This module was deprecated in version 0.18 in favor of the model_selection module into which all the refactored classes and functions are moved. Also note that the interface of the new CV iterators are different from that of this module. This module will be removed in 0.20.\n",
      "  \"This module will be removed in 0.20.\", DeprecationWarning)\n"
     ]
    },
    {
     "name": "stdout",
     "output_type": "stream",
     "text": [
      "List of scores: [ 0.41221374  0.46462715  0.50766284]\n",
      "mean scoring: 0.461501242253\n",
      "Standard deviation between scorings: 0.0390295691621\n"
     ]
    }
   ],
   "source": [
    "from sklearn.cross_validation import train_test_split\n",
    "from sklearn.ensemble import VotingClassifier\n",
    "from sklearn.naive_bayes import GaussianNB\n",
    "from sklearn.pipeline import make_pipeline, make_union\n",
    "from sklearn.preprocessing import FunctionTransformer, Normalizer\n",
    "\n",
    "exported_pipeline = make_pipeline(\n",
    "    make_union(\n",
    "        make_union(\n",
    "            FunctionTransformer(lambda X: X),\n",
    "            FunctionTransformer(lambda X: X)\n",
    "        ),\n",
    "        Normalizer(norm=\"l1\")\n",
    "    ),\n",
    "    GaussianNB()\n",
    ")\n",
    "\n",
    "exported_pipeline.fit(X_train, y_train)\n",
    "\n",
    "scores = cross_val_score(exported_pipeline, input_features, output)\n",
    "\n",
    "report_scoring(scores)"
   ]
  },
  {
   "cell_type": "code",
   "execution_count": null,
   "metadata": {
    "collapsed": true
   },
   "outputs": [],
   "source": []
  }
 ],
 "metadata": {
  "kernelspec": {
   "display_name": "Python 2",
   "language": "python",
   "name": "python2"
  },
  "language_info": {
   "codemirror_mode": {
    "name": "ipython",
    "version": 2
   },
   "file_extension": ".py",
   "mimetype": "text/x-python",
   "name": "python",
   "nbconvert_exporter": "python",
   "pygments_lexer": "ipython2",
   "version": "2.7.12"
  }
 },
 "nbformat": 4,
 "nbformat_minor": 0
}
