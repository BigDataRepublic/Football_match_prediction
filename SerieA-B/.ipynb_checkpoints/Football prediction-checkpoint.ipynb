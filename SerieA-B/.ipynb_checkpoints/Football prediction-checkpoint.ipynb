{
 "cells": [
  {
   "cell_type": "markdown",
   "metadata": {},
   "source": [
    "# Read CSV"
   ]
  },
  {
   "cell_type": "code",
   "execution_count": 55,
   "metadata": {
    "collapsed": true
   },
   "outputs": [],
   "source": [
    "import pandas as pd\n",
    "import numpy as np"
   ]
  },
  {
   "cell_type": "code",
   "execution_count": 5,
   "metadata": {
    "collapsed": true
   },
   "outputs": [],
   "source": [
    "data = pd.read_csv(\"Serie_A-B_stats.csv\")"
   ]
  },
  {
   "cell_type": "code",
   "execution_count": 6,
   "metadata": {
    "collapsed": false
   },
   "outputs": [
    {
     "data": {
      "text/html": [
       "<div>\n",
       "<table border=\"1\" class=\"dataframe\">\n",
       "  <thead>\n",
       "    <tr style=\"text-align: right;\">\n",
       "      <th></th>\n",
       "      <th>Div</th>\n",
       "      <th>Date</th>\n",
       "      <th>HomeTeam</th>\n",
       "      <th>AwayTeam</th>\n",
       "      <th>FTHG</th>\n",
       "      <th>FTAG</th>\n",
       "      <th>FTR</th>\n",
       "      <th>HTHG</th>\n",
       "      <th>HTAG</th>\n",
       "      <th>HTR</th>\n",
       "      <th>...</th>\n",
       "      <th>BbAv&lt;2.5</th>\n",
       "      <th>BbAH</th>\n",
       "      <th>BbAHh</th>\n",
       "      <th>BbMxAHH</th>\n",
       "      <th>BbAvAHH</th>\n",
       "      <th>BbMxAHA</th>\n",
       "      <th>BbAvAHA</th>\n",
       "      <th>PSCH</th>\n",
       "      <th>PSCD</th>\n",
       "      <th>PSCA</th>\n",
       "    </tr>\n",
       "  </thead>\n",
       "  <tbody>\n",
       "    <tr>\n",
       "      <th>0</th>\n",
       "      <td>I1</td>\n",
       "      <td>24/08/13</td>\n",
       "      <td>Sampdoria</td>\n",
       "      <td>Juventus</td>\n",
       "      <td>0</td>\n",
       "      <td>1</td>\n",
       "      <td>A</td>\n",
       "      <td>0</td>\n",
       "      <td>0</td>\n",
       "      <td>D</td>\n",
       "      <td>...</td>\n",
       "      <td>1.8</td>\n",
       "      <td>19</td>\n",
       "      <td>1.0</td>\n",
       "      <td>2.09</td>\n",
       "      <td>2.04</td>\n",
       "      <td>1.88</td>\n",
       "      <td>1.83</td>\n",
       "      <td>8.38</td>\n",
       "      <td>4.53</td>\n",
       "      <td>1.47</td>\n",
       "    </tr>\n",
       "  </tbody>\n",
       "</table>\n",
       "<p>1 rows × 67 columns</p>\n",
       "</div>"
      ],
      "text/plain": [
       "  Div      Date   HomeTeam  AwayTeam  FTHG  FTAG FTR  HTHG  HTAG HTR  ...   \\\n",
       "0  I1  24/08/13  Sampdoria  Juventus     0     1   A     0     0   D  ...    \n",
       "\n",
       "   BbAv<2.5  BbAH  BbAHh  BbMxAHH  BbAvAHH  BbMxAHA  BbAvAHA  PSCH  PSCD  PSCA  \n",
       "0       1.8    19    1.0     2.09     2.04     1.88     1.83  8.38  4.53  1.47  \n",
       "\n",
       "[1 rows x 67 columns]"
      ]
     },
     "execution_count": 6,
     "metadata": {},
     "output_type": "execute_result"
    }
   ],
   "source": [
    "data.head(1)"
   ]
  },
  {
   "cell_type": "markdown",
   "metadata": {},
   "source": [
    "# Set Index"
   ]
  },
  {
   "cell_type": "code",
   "execution_count": 7,
   "metadata": {
    "collapsed": false
   },
   "outputs": [],
   "source": [
    "data = data.set_index('Date')"
   ]
  },
  {
   "cell_type": "markdown",
   "metadata": {},
   "source": [
    "# Select features"
   ]
  },
  {
   "cell_type": "code",
   "execution_count": 8,
   "metadata": {
    "collapsed": false
   },
   "outputs": [
    {
     "data": {
      "text/html": [
       "<div>\n",
       "<table border=\"1\" class=\"dataframe\">\n",
       "  <thead>\n",
       "    <tr style=\"text-align: right;\">\n",
       "      <th></th>\n",
       "      <th>Div</th>\n",
       "      <th>HomeTeam</th>\n",
       "      <th>AwayTeam</th>\n",
       "      <th>FTHG</th>\n",
       "      <th>FTAG</th>\n",
       "      <th>FTR</th>\n",
       "      <th>HTHG</th>\n",
       "      <th>HTAG</th>\n",
       "      <th>HTR</th>\n",
       "      <th>HS</th>\n",
       "      <th>...</th>\n",
       "      <th>HST</th>\n",
       "      <th>AST</th>\n",
       "      <th>HC</th>\n",
       "      <th>AC</th>\n",
       "      <th>HF</th>\n",
       "      <th>AF</th>\n",
       "      <th>HY</th>\n",
       "      <th>AY</th>\n",
       "      <th>HR</th>\n",
       "      <th>AR</th>\n",
       "    </tr>\n",
       "    <tr>\n",
       "      <th>Date</th>\n",
       "      <th></th>\n",
       "      <th></th>\n",
       "      <th></th>\n",
       "      <th></th>\n",
       "      <th></th>\n",
       "      <th></th>\n",
       "      <th></th>\n",
       "      <th></th>\n",
       "      <th></th>\n",
       "      <th></th>\n",
       "      <th></th>\n",
       "      <th></th>\n",
       "      <th></th>\n",
       "      <th></th>\n",
       "      <th></th>\n",
       "      <th></th>\n",
       "      <th></th>\n",
       "      <th></th>\n",
       "      <th></th>\n",
       "      <th></th>\n",
       "      <th></th>\n",
       "    </tr>\n",
       "  </thead>\n",
       "  <tbody>\n",
       "    <tr>\n",
       "      <th>24/08/13</th>\n",
       "      <td>I1</td>\n",
       "      <td>Sampdoria</td>\n",
       "      <td>Juventus</td>\n",
       "      <td>0</td>\n",
       "      <td>1</td>\n",
       "      <td>A</td>\n",
       "      <td>0</td>\n",
       "      <td>0</td>\n",
       "      <td>D</td>\n",
       "      <td>4</td>\n",
       "      <td>...</td>\n",
       "      <td>1</td>\n",
       "      <td>4</td>\n",
       "      <td>4</td>\n",
       "      <td>10</td>\n",
       "      <td>21</td>\n",
       "      <td>21</td>\n",
       "      <td>2</td>\n",
       "      <td>3</td>\n",
       "      <td>1</td>\n",
       "      <td>0</td>\n",
       "    </tr>\n",
       "  </tbody>\n",
       "</table>\n",
       "<p>1 rows × 21 columns</p>\n",
       "</div>"
      ],
      "text/plain": [
       "         Div   HomeTeam  AwayTeam  FTHG  FTAG FTR  HTHG  HTAG HTR  HS ...  \\\n",
       "Date                                                                  ...   \n",
       "24/08/13  I1  Sampdoria  Juventus     0     1   A     0     0   D   4 ...   \n",
       "\n",
       "          HST  AST  HC  AC  HF  AF  HY  AY  HR  AR  \n",
       "Date                                                \n",
       "24/08/13    1    4   4  10  21  21   2   3   1   0  \n",
       "\n",
       "[1 rows x 21 columns]"
      ]
     },
     "execution_count": 8,
     "metadata": {},
     "output_type": "execute_result"
    }
   ],
   "source": [
    "data = data[['Div', 'HomeTeam', 'AwayTeam', 'FTHG', 'FTAG', 'FTR', 'HTHG', 'HTAG', 'HTR', 'HS', 'AS', 'HST', 'AST', 'HC', 'AC', 'HF', 'AF', 'HY', 'AY', 'HR', 'AR']] \n",
    "data.head(1)"
   ]
  },
  {
   "cell_type": "code",
   "execution_count": 9,
   "metadata": {
    "collapsed": false
   },
   "outputs": [],
   "source": [
    "features = data.drop(['Div', 'HTR'],1)"
   ]
  },
  {
   "cell_type": "code",
   "execution_count": 10,
   "metadata": {
    "collapsed": false
   },
   "outputs": [],
   "source": [
    "g = features.columns.to_series().groupby(data.dtypes).groups"
   ]
  },
  {
   "cell_type": "code",
   "execution_count": 11,
   "metadata": {
    "collapsed": false
   },
   "outputs": [],
   "source": [
    "object_features = {key.name: value for key, value in g.items()}['object']"
   ]
  },
  {
   "cell_type": "code",
   "execution_count": 12,
   "metadata": {
    "collapsed": false
   },
   "outputs": [
    {
     "data": {
      "text/plain": [
       "['HomeTeam', 'AwayTeam', 'FTR']"
      ]
     },
     "execution_count": 12,
     "metadata": {},
     "output_type": "execute_result"
    }
   ],
   "source": [
    "object_features"
   ]
  },
  {
   "cell_type": "markdown",
   "metadata": {},
   "source": [
    "# Create performance history per team"
   ]
  },
  {
   "cell_type": "markdown",
   "metadata": {},
   "source": [
    "1. Track winning or losing streak as feature\n",
    "2. Track total wins, losses and draws"
   ]
  },
  {
   "cell_type": "code",
   "execution_count": 68,
   "metadata": {
    "collapsed": false
   },
   "outputs": [],
   "source": [
    "class Stats:\n",
    "    def __init__(self):\n",
    "        self.win_streak = 0\n",
    "        self.lose_streak = 0\n",
    "        self.total_wins = 0\n",
    "        self.total_losses = 0\n",
    "        self.total_draws = 0\n",
    "        self.total_games = 0\n",
    "        self.previous_encounters = {}\n",
    "        \n",
    "    def get_win_ratio(self):\n",
    "        try:\n",
    "            return (float(self.total_wins) / float(self.total_games))\n",
    "        except:\n",
    "            return(0)\n",
    "        \n",
    "    def get_win_ratio_against_opponent(self, opponent):\n",
    "        try:\n",
    "            results = self.previous_encounters[opponent]\n",
    "            return sum(results)\n",
    "        except:\n",
    "            return(0)\n",
    "        \n",
    "    #Results: 1 = win, 0 = draw, -1 = loss for this team against the opponent\n",
    "    def update_previous_encounters(self, opponent, result):\n",
    "        if opponent in self.previous_encounters:\n",
    "            self.previous_encounters[opponent].append(result)\n",
    "        else:\n",
    "            self.previous_encounters[opponent] = [result]\n",
    "    \n",
    "    def update_win(self, opponent):\n",
    "        self.win_streak = self.win_streak + 1\n",
    "        self.lose_streak = 0\n",
    "        self.total_wins = self.total_wins + 1\n",
    "        self.total_games = self.total_games + 1\n",
    "        self.update_previous_encounters(opponent, 1)\n",
    "        \n",
    "    def update_loss(self, opponent):\n",
    "        self.lose_streak = self.lose_streak + 1\n",
    "        self.win_streak = 0\n",
    "        self.total_losses = self.total_losses + 1\n",
    "        self.total_games = self.total_games + 1\n",
    "        self.update_previous_encounters(opponent, -1)\n",
    "    \n",
    "    def update_draw(self, opponent):\n",
    "        self.total_draws = self.total_draws + 1\n",
    "        self.win_streak = 0\n",
    "        self.lose_streak = 0\n",
    "        self.total_games = self.total_games + 1\n",
    "        self.update_previous_encounters(opponent, 0)"
   ]
  },
  {
   "cell_type": "code",
   "execution_count": 69,
   "metadata": {
    "collapsed": false
   },
   "outputs": [],
   "source": [
    "teams = features.HomeTeam.unique()\n",
    "stats = {}\n",
    "for team in teams:\n",
    "    stats[team] = Stats()"
   ]
  },
  {
   "cell_type": "markdown",
   "metadata": {},
   "source": [
    "## Create feature arrays as columns for data frame"
   ]
  },
  {
   "cell_type": "code",
   "execution_count": 70,
   "metadata": {
    "collapsed": false
   },
   "outputs": [],
   "source": [
    "home_results = {\n",
    "    \"win_streak\": [],\n",
    "    \"lose_streak\" : [],\n",
    "    \"total_wins\" : [],\n",
    "    \"total_losses\" : [],\n",
    "    \"total_draws\" : [],\n",
    "    \"win_ratio\" : [],\n",
    "    \"opponent_win_ratio\" : []\n",
    "    }\n",
    "\n",
    "away_results = {\n",
    "    \"win_streak\" : [],\n",
    "    \"lose_streak\" : [],\n",
    "    \"total_wins\" : [],\n",
    "    \"total_losses\" : [],\n",
    "    \"total_draws\" : [],\n",
    "    \"win_ratio\" : [],\n",
    "    \"opponent_win_ratio\" : []\n",
    "    }"
   ]
  },
  {
   "cell_type": "markdown",
   "metadata": {},
   "source": [
    "## Add aggregated stats from previous matches as features then update stats based on this match"
   ]
  },
  {
   "cell_type": "code",
   "execution_count": 71,
   "metadata": {
    "collapsed": false
   },
   "outputs": [
    {
     "name": "stdout",
     "output_type": "stream",
     "text": [
      "total wins: 1\n",
      "total games: 1\n",
      "win ratio: 1\n",
      "total wins: 2\n",
      "total games: 2\n",
      "win ratio: 1\n",
      "total wins: 2\n",
      "total games: 3\n",
      "win ratio: 0\n",
      "total wins: 3\n",
      "total games: 4\n",
      "win ratio: 1\n",
      "total wins: 4\n",
      "total games: 5\n",
      "win ratio: 1\n",
      "total wins: 5\n",
      "total games: 6\n",
      "win ratio: 1\n",
      "total wins: 6\n",
      "total games: 7\n",
      "win ratio: 1\n",
      "total wins: 6\n",
      "total games: 8\n",
      "win ratio: -1\n",
      "total wins: 7\n",
      "total games: 9\n",
      "win ratio: 1\n",
      "total wins: 8\n",
      "total games: 10\n",
      "win ratio: 1\n",
      "total wins: 9\n",
      "total games: 11\n",
      "win ratio: 1\n",
      "total wins: 10\n",
      "total games: 12\n",
      "win ratio: 1\n",
      "total wins: 11\n",
      "total games: 13\n",
      "win ratio: 1\n",
      "total wins: 12\n",
      "total games: 14\n",
      "win ratio: 1\n",
      "total wins: 13\n",
      "total games: 15\n",
      "win ratio: 1\n",
      "total wins: 14\n",
      "total games: 16\n",
      "win ratio: 1\n",
      "total wins: 15\n",
      "total games: 17\n",
      "win ratio: 1\n",
      "total wins: 16\n",
      "total games: 18\n",
      "win ratio: 1\n",
      "total wins: 17\n",
      "total games: 19\n",
      "win ratio: 1\n",
      "total wins: 18\n",
      "total games: 20\n",
      "win ratio: 2\n",
      "total wins: 18\n",
      "total games: 21\n",
      "win ratio: 1\n",
      "total wins: 19\n",
      "total games: 22\n",
      "win ratio: 1\n",
      "total wins: 19\n",
      "total games: 23\n",
      "win ratio: 1\n",
      "total wins: 20\n",
      "total games: 24\n",
      "win ratio: 2\n",
      "total wins: 21\n",
      "total games: 25\n",
      "win ratio: 2\n",
      "total wins: 22\n",
      "total games: 26\n",
      "win ratio: 2\n",
      "total wins: 23\n",
      "total games: 27\n",
      "win ratio: 0\n",
      "total wins: 24\n",
      "total games: 28\n",
      "win ratio: 2\n",
      "total wins: 25\n",
      "total games: 29\n",
      "win ratio: 2\n",
      "total wins: 26\n",
      "total games: 30\n",
      "win ratio: 2\n",
      "total wins: 26\n",
      "total games: 31\n",
      "win ratio: 0\n",
      "total wins: 27\n",
      "total games: 32\n",
      "win ratio: 2\n",
      "total wins: 28\n",
      "total games: 33\n",
      "win ratio: 2\n",
      "total wins: 29\n",
      "total games: 34\n",
      "win ratio: 2\n",
      "total wins: 30\n",
      "total games: 35\n",
      "win ratio: 2\n",
      "total wins: 31\n",
      "total games: 36\n",
      "win ratio: 2\n",
      "total wins: 32\n",
      "total games: 37\n",
      "win ratio: 2\n",
      "total wins: 33\n",
      "total games: 38\n",
      "win ratio: 2\n"
     ]
    }
   ],
   "source": [
    "def update_results(results, stats, opponent):\n",
    "    results[\"win_streak\"].append(stats.win_streak)\n",
    "    results[\"lose_streak\"].append(stats.lose_streak)\n",
    "    results[\"total_wins\"].append(stats.total_wins)\n",
    "    results[\"total_losses\"].append(stats.total_losses)\n",
    "    results[\"total_draws\"].append(stats.total_draws)\n",
    "    results[\"win_ratio\"].append(stats.get_win_ratio())\n",
    "    results[\"opponent_win_ratio\"].append(stats.get_win_ratio_against_opponent(opponent))\n",
    "    \n",
    "    return results\n",
    "    \n",
    "\n",
    "for date, match in features.iterrows():\n",
    "    home_team = match.HomeTeam\n",
    "    home_stats = stats[home_team]\n",
    "    \n",
    "    away_team = match.AwayTeam\n",
    "    away_stats = stats[away_team]\n",
    "    \n",
    "    home_results = update_results(home_results, home_stats, away_team)\n",
    "\n",
    "    away_results = update_results(away_results, away_stats, home_team)\n",
    "    \n",
    "    #Update stats based on results of this match\n",
    "    match_result = match.FTR    \n",
    "        \n",
    "    if match_result == 'H':\n",
    "        home_stats.update_win(away_team)\n",
    "        away_stats.update_loss(home_team)\n",
    "    elif match_result == 'A':\n",
    "        away_stats.update_win(home_team)\n",
    "        home_stats.update_loss(away_team)\n",
    "    else:\n",
    "        home_stats.update_draw(away_team)\n",
    "        away_stats.update_draw(home_team)\n",
    "    \n",
    "    if home_team == \"Juventus\":\n",
    "        print(\"total wins: \" + str(home_stats.total_wins))\n",
    "        print(\"total games: \" + str(home_stats.total_games))\n",
    "        print(\"win ratio: \" + str(home_stats.get_win_ratio_against_opponent(away_team)))\n",
    "    elif away_team == \"Juventus\":\n",
    "        print(\"total wins: \" + str(away_stats.total_wins))\n",
    "        print(\"total games: \" + str(away_stats.total_games))\n",
    "        print(\"win ratio: \" + str(away_stats.get_win_ratio_against_opponent(home_team)))"
   ]
  },
  {
   "cell_type": "code",
   "execution_count": 72,
   "metadata": {
    "collapsed": false
   },
   "outputs": [
    {
     "data": {
      "text/plain": [
       "[1, 0]"
      ]
     },
     "execution_count": 72,
     "metadata": {},
     "output_type": "execute_result"
    }
   ],
   "source": [
    "stats[\"Juventus\"].previous_encounters[\"Lazio\"]"
   ]
  },
  {
   "cell_type": "code",
   "execution_count": 41,
   "metadata": {
    "collapsed": false
   },
   "outputs": [],
   "source": [
    "columns = {}\n",
    "\n",
    "for column_name, column  in home_results.iteritems():\n",
    "    columns[column_name] = column"
   ]
  },
  {
   "cell_type": "code",
   "execution_count": 42,
   "metadata": {
    "collapsed": false
   },
   "outputs": [],
   "source": [
    "input_features = pd.DataFrame(data=columns, index=data.index.values)"
   ]
  },
  {
   "cell_type": "code",
   "execution_count": 43,
   "metadata": {
    "collapsed": false
   },
   "outputs": [
    {
     "data": {
      "text/html": [
       "<div>\n",
       "<table border=\"1\" class=\"dataframe\">\n",
       "  <thead>\n",
       "    <tr style=\"text-align: right;\">\n",
       "      <th></th>\n",
       "      <th>lose_streak</th>\n",
       "      <th>opponent_win_ratio</th>\n",
       "      <th>total_draws</th>\n",
       "      <th>total_losses</th>\n",
       "      <th>total_wins</th>\n",
       "      <th>win_ratio</th>\n",
       "      <th>win_streak</th>\n",
       "    </tr>\n",
       "  </thead>\n",
       "  <tbody>\n",
       "    <tr>\n",
       "      <th>17/05/14</th>\n",
       "      <td>0</td>\n",
       "      <td>0</td>\n",
       "      <td>7</td>\n",
       "      <td>18</td>\n",
       "      <td>12</td>\n",
       "      <td>0.324324</td>\n",
       "      <td>0</td>\n",
       "    </tr>\n",
       "    <tr>\n",
       "      <th>18/05/14</th>\n",
       "      <td>0</td>\n",
       "      <td>0</td>\n",
       "      <td>8</td>\n",
       "      <td>22</td>\n",
       "      <td>7</td>\n",
       "      <td>0.189189</td>\n",
       "      <td>2</td>\n",
       "    </tr>\n",
       "    <tr>\n",
       "      <th>18/05/14</th>\n",
       "      <td>0</td>\n",
       "      <td>0</td>\n",
       "      <td>6</td>\n",
       "      <td>22</td>\n",
       "      <td>9</td>\n",
       "      <td>0.243243</td>\n",
       "      <td>1</td>\n",
       "    </tr>\n",
       "    <tr>\n",
       "      <th>18/05/14</th>\n",
       "      <td>0</td>\n",
       "      <td>0</td>\n",
       "      <td>7</td>\n",
       "      <td>11</td>\n",
       "      <td>19</td>\n",
       "      <td>0.513514</td>\n",
       "      <td>1</td>\n",
       "    </tr>\n",
       "    <tr>\n",
       "      <th>18/05/14</th>\n",
       "      <td>1</td>\n",
       "      <td>0</td>\n",
       "      <td>11</td>\n",
       "      <td>16</td>\n",
       "      <td>10</td>\n",
       "      <td>0.270270</td>\n",
       "      <td>0</td>\n",
       "    </tr>\n",
       "    <tr>\n",
       "      <th>18/05/14</th>\n",
       "      <td>0</td>\n",
       "      <td>0</td>\n",
       "      <td>3</td>\n",
       "      <td>2</td>\n",
       "      <td>32</td>\n",
       "      <td>0.864865</td>\n",
       "      <td>6</td>\n",
       "    </tr>\n",
       "    <tr>\n",
       "      <th>18/05/14</th>\n",
       "      <td>1</td>\n",
       "      <td>0</td>\n",
       "      <td>11</td>\n",
       "      <td>12</td>\n",
       "      <td>14</td>\n",
       "      <td>0.378378</td>\n",
       "      <td>0</td>\n",
       "    </tr>\n",
       "    <tr>\n",
       "      <th>18/05/14</th>\n",
       "      <td>1</td>\n",
       "      <td>0</td>\n",
       "      <td>9</td>\n",
       "      <td>13</td>\n",
       "      <td>15</td>\n",
       "      <td>0.405405</td>\n",
       "      <td>0</td>\n",
       "    </tr>\n",
       "    <tr>\n",
       "      <th>18/05/14</th>\n",
       "      <td>0</td>\n",
       "      <td>0</td>\n",
       "      <td>9</td>\n",
       "      <td>6</td>\n",
       "      <td>22</td>\n",
       "      <td>0.594595</td>\n",
       "      <td>2</td>\n",
       "    </tr>\n",
       "    <tr>\n",
       "      <th>18/05/14</th>\n",
       "      <td>0</td>\n",
       "      <td>0</td>\n",
       "      <td>13</td>\n",
       "      <td>10</td>\n",
       "      <td>14</td>\n",
       "      <td>0.378378</td>\n",
       "      <td>0</td>\n",
       "    </tr>\n",
       "  </tbody>\n",
       "</table>\n",
       "</div>"
      ],
      "text/plain": [
       "          lose_streak  opponent_win_ratio  total_draws  total_losses  \\\n",
       "17/05/14            0                   0            7            18   \n",
       "18/05/14            0                   0            8            22   \n",
       "18/05/14            0                   0            6            22   \n",
       "18/05/14            0                   0            7            11   \n",
       "18/05/14            1                   0           11            16   \n",
       "18/05/14            0                   0            3             2   \n",
       "18/05/14            1                   0           11            12   \n",
       "18/05/14            1                   0            9            13   \n",
       "18/05/14            0                   0            9             6   \n",
       "18/05/14            0                   0           13            10   \n",
       "\n",
       "          total_wins  win_ratio  win_streak  \n",
       "17/05/14          12   0.324324           0  \n",
       "18/05/14           7   0.189189           2  \n",
       "18/05/14           9   0.243243           1  \n",
       "18/05/14          19   0.513514           1  \n",
       "18/05/14          10   0.270270           0  \n",
       "18/05/14          32   0.864865           6  \n",
       "18/05/14          14   0.378378           0  \n",
       "18/05/14          15   0.405405           0  \n",
       "18/05/14          22   0.594595           2  \n",
       "18/05/14          14   0.378378           0  "
      ]
     },
     "execution_count": 43,
     "metadata": {},
     "output_type": "execute_result"
    }
   ],
   "source": [
    "input_features.tail(10)"
   ]
  },
  {
   "cell_type": "markdown",
   "metadata": {},
   "source": [
    "## Full time result as output\n",
    "### First convert output to numeric"
   ]
  },
  {
   "cell_type": "code",
   "execution_count": 21,
   "metadata": {
    "collapsed": false
   },
   "outputs": [],
   "source": [
    "def ResultToNumeric(results):\n",
    "    numericResults = []\n",
    "    for result in results:\n",
    "        if result == 'H':\n",
    "            numericResults.append(0)\n",
    "        elif result == 'A':\n",
    "            numericResults.append(1)\n",
    "        else:\n",
    "            numericResults.append(2)\n",
    "    return np.array(numericResults)\n",
    "\n",
    "output = ResultToNumeric(data['FTR'])"
   ]
  },
  {
   "cell_type": "markdown",
   "metadata": {},
   "source": [
    "## Create train and test set"
   ]
  },
  {
   "cell_type": "code",
   "execution_count": 22,
   "metadata": {
    "collapsed": true
   },
   "outputs": [],
   "source": [
    "from sklearn.cross_validation import train_test_split\n",
    "\n",
    "X_train, X_test, y_train, y_test = train_test_split(input_features, output,\n",
    "                                                    train_size=0.75, test_size=0.25)"
   ]
  },
  {
   "cell_type": "code",
   "execution_count": 23,
   "metadata": {
    "collapsed": false
   },
   "outputs": [
    {
     "name": "stderr",
     "output_type": "stream",
     "text": []
    },
    {
     "name": "stdout",
     "output_type": "stream",
     "text": [
      "Generation 1 - Current best internal CV score: 0.591388432065\n"
     ]
    },
    {
     "name": "stderr",
     "output_type": "stream",
     "text": []
    },
    {
     "name": "stdout",
     "output_type": "stream",
     "text": [
      "Generation 2 - Current best internal CV score: 0.591388432065\n"
     ]
    },
    {
     "name": "stderr",
     "output_type": "stream",
     "text": []
    },
    {
     "name": "stdout",
     "output_type": "stream",
     "text": [
      "Generation 3 - Current best internal CV score: 0.591388432065\n"
     ]
    },
    {
     "name": "stderr",
     "output_type": "stream",
     "text": []
    },
    {
     "name": "stdout",
     "output_type": "stream",
     "text": [
      "Generation 4 - Current best internal CV score: 0.600658664582\n"
     ]
    },
    {
     "name": "stderr",
     "output_type": "stream",
     "text": []
    },
    {
     "name": "stdout",
     "output_type": "stream",
     "text": [
      "Generation 5 - Current best internal CV score: 0.600658664582\n"
     ]
    },
    {
     "name": "stderr",
     "output_type": "stream",
     "text": []
    },
    {
     "name": "stdout",
     "output_type": "stream",
     "text": [
      "\n",
      "Best pipeline: LinearSVC(ZeroCount(input_matrix), 40.0, 16, True)\n",
      "0.561270147477\n"
     ]
    }
   ],
   "source": [
    "from tpot import TPOTClassifier\n",
    "\n",
    "tpot = TPOTClassifier(generations=5, population_size=20, verbosity=2)\n",
    "tpot.fit(X_train, y_train)\n",
    "print(tpot.score(X_test, y_test))\n",
    "tpot.export('tpot_soccer_pipeline.py')"
   ]
  },
  {
   "cell_type": "code",
   "execution_count": null,
   "metadata": {
    "collapsed": true
   },
   "outputs": [],
   "source": []
  },
  {
   "cell_type": "code",
   "execution_count": null,
   "metadata": {
    "collapsed": true
   },
   "outputs": [],
   "source": []
  }
 ],
 "metadata": {
  "kernelspec": {
   "display_name": "Python 2",
   "language": "python",
   "name": "python2"
  },
  "language_info": {
   "codemirror_mode": {
    "name": "ipython",
    "version": 2
   },
   "file_extension": ".py",
   "mimetype": "text/x-python",
   "name": "python",
   "nbconvert_exporter": "python",
   "pygments_lexer": "ipython2",
   "version": "2.7.12"
  }
 },
 "nbformat": 4,
 "nbformat_minor": 0
}
