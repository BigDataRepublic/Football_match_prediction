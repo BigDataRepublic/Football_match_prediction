{
 "cells": [
  {
   "cell_type": "markdown",
   "metadata": {},
   "source": [
    "# General processing of files"
   ]
  },
  {
   "cell_type": "markdown",
   "metadata": {},
   "source": [
    "Files are stored in directories per season in the data directory. Unzip the All_Data.zip first. Each competition has its own abbreviation. Check below for these abreviations. For the explanation of the features, please read the notex.txt in the background_info directory"
   ]
  },
  {
   "cell_type": "markdown",
   "metadata": {},
   "source": [
    "## Abreviations for competitions files:\n",
    "- Belgium\n",
    "    - B1 : Jupiler League\n",
    "- Germany\n",
    "    - D1 : Bundesliga 1\n",
    "    - D2 : Bundesliga 2\n",
    "- England\n",
    "    - E0: Premier League\n",
    "    - E1: Championship\n",
    "    - E2: League 1\n",
    "    - E3: League 2\n",
    "    - EC: Conference\n",
    "- France\n",
    "    - F1: Le Championnat\n",
    "    - F2: Division 2\n",
    "- Greece\n",
    "    -G1: Ethniki Katigoria\n",
    "- Italy\n",
    "    - I1: Serie A\n",
    "    - I2: Serie B\n",
    "- Netherlands\n",
    "    - N1: Eredivisie\n",
    "- Portugal\n",
    "    - P1: Liga I\n",
    "- Scotland\n",
    "    - SC0: Premier League\n",
    "    - SC1: Divison 1\n",
    "    - SC2: Divison 2\n",
    "    - SC3: Divison 3\n",
    "- Spain\n",
    "    - SP1: La Liga Primera Division\n",
    "    - SP1: La Liga Segunda Division\n",
    "- Turkey\n",
    "    - T1: Futbol Ligi 1\n",
    "    "
   ]
  },
  {
   "cell_type": "markdown",
   "metadata": {},
   "source": [
    "## Main Feature Dimensions\n",
    "The features can be subdivided into 6 categories. Below is the column list for each of the categories. Some but certainly not all competitions hold all data. Data on odds is exclusively from odds before the match, live betting odds are not included in the data.\n",
    "1. Results Data\n",
    "2. Match Statistics\n",
    "3. Key to 1X2 (match) betting odds data\n",
    "    - Last letter indicates team or draw: H(ome), A(way), D(draw)\n",
    "4. Key to total goals betting odds\n",
    "5. Key to Asian handicap betting odds\n",
    "    - Last letter indicates team: H(ome), A(way)\n",
    "6. Closing odds (last odds before match starts)\n",
    "    - Last letter indicates team or draw: H(ome), A(way), D(draw)"
   ]
  },
  {
   "cell_type": "code",
   "execution_count": 3,
   "metadata": {
    "collapsed": true
   },
   "outputs": [],
   "source": [
    "import pandas as pd\n",
    "import numpy as np\n",
    "import glob\n",
    "import matplotlib.pyplot as plt\n",
    "import os\n",
    "from datetime import datetime, timedelta\n",
    "%matplotlib inline"
   ]
  },
  {
   "cell_type": "code",
   "execution_count": 4,
   "metadata": {
    "collapsed": true
   },
   "outputs": [],
   "source": [
    "# Features Names in Array's\n",
    "results_data = ['Date','HomeTeam','AwayTeam','FTHG','FTAG','FTR'\\\n",
    "                ,'HTHG','HTAG','HTR']\n",
    "match_stats = ['Attendance','Referee','HS','AS','HST','AST','HHW'\\\n",
    "               ,'AHW','HC','AC','HF','AF','HO','AO','HY','AY','HR'\\\n",
    "               ,'AR','HBP','ABP']\n",
    "match_odds = ['B365H ','B365D ','B365A ','BSH ','BSD ','BSA ','BWH ','BWD '\\\n",
    "    ,'BWA ','GBH ','GBD ','GBA ','IWH ','IWD ','IWA ','LBH ','LBD '\\\n",
    "    ,'LBA ','PSH ','PSD ','PSA ','SOH ','SOD ','SOA ','SBH ','SBD '\\\n",
    "    ,'SBA ','SJH ','SJD ','SJA ','SYH ','SYD ','SYA ','VCH ','VCD '\\\n",
    "    ,'VCA ','WHH ','WHD ','WHA ','Bb1X2 ','BbMxH ','BbAvH ','BbMxD '\\\n",
    "    ,'BbAvD ','BbMxA ','BbAvA ']\n",
    "goal_odds = ['BbOU ','BbMx>2.5 ','BbAv>2.5 ','BbMx<2.5 ','BbAv<2.5'\\\n",
    "             ,'GB>2.5','GB<2.5 ','B365>2.5 ','B365<2.5 ']\n",
    "asian_odds = ['BbAH ','BbAHh ','BbMxAHH ','BbAvAHH ','BbMxAHA '\\\n",
    "              ,'BbAvAHA','GBAHH','GBAHA ','GBAH ','LBAHH ','LBAHA '\\\n",
    "              ,'LBAH ','B365AHH ','B365AHA ','B365AH']\n",
    "closing_odds = ['PSCH ','PSCD ','PSCA ']\n",
    "\n",
    "all_cols = ['season']\n",
    "for i in [results_data,match_stats,match_odds,goal_odds,asian_odds,closing_odds]:\n",
    "    all_cols = np.append(all_cols,i)"
   ]
  },
  {
   "cell_type": "code",
   "execution_count": 6,
   "metadata": {
    "collapsed": false
   },
   "outputs": [
    {
     "name": "stdout",
     "output_type": "stream",
     "text": [
      "\n",
      "1995_1996\n",
      "1996_1997\n",
      "1997_1998\n",
      "1998_1999\n",
      "1999_2000\n",
      "2000_2001\n",
      "2001_2002\n",
      "2002_2003\n",
      "2003_2004\n",
      "2004_2005\n",
      "2005_2006\n",
      "2006_2007\n",
      "2007_2008\n",
      "2008_2009\n",
      "2009_2010\n",
      "2010_2011\n",
      "2011_2012\n",
      "2012_2013\n",
      "2013_2014\n",
      "2014_2015\n",
      "2015_2016\n",
      "2016_2017\n"
     ]
    }
   ],
   "source": [
    "# All Available Seasons Check on you directory\n",
    "available_seasons = [x[0] for x in os.walk('../Data')]\n",
    "for i in available_seasons:\n",
    "    print i[8:17]"
   ]
  },
  {
   "cell_type": "markdown",
   "metadata": {},
   "source": [
    "The function below can read data in per competition and season. Specify the columns you want or use the predefined arrays, as indicated above. The function assumes dir structure as imposed in this repo. Loading in all data is also possible, use * to indicate this"
   ]
  },
  {
   "cell_type": "code",
   "execution_count": 43,
   "metadata": {
    "collapsed": false
   },
   "outputs": [],
   "source": [
    "def read_data(competition,columns_to_include,season='*',read_in_type='Loose'):\n",
    "    #string to filepath\n",
    "    comp_season_str = '../Data/'+ str(season)+'/'+str(competition)+'.csv'\n",
    "    #glob functions takes all files in a path and stores them in a list\n",
    "    allFiles = glob.glob(comp_season_str)\n",
    "    #Sometimes some a file will be entered multiple time in the list\n",
    "    #To ensure it is readin only once, the list is made unique\n",
    "    allFiles = np.unique(np.array(allFiles))\n",
    "    #Initialize empty frame and list\n",
    "    frame = pd.DataFrame()\n",
    "    list_ = []\n",
    "    for file_ in allFiles:\n",
    "        #Feedback from th function which files are feeded into the resulting frame\n",
    "        print 'Data added from:', file_\n",
    "        #Some rows in the files contain trailing commas without any info\n",
    "        #Pandas does not like this and will error out\n",
    "        # This function allows the user to choose 2 options to prevent this\n",
    "        # 1. Loose: Use the header column of the file to determine the ammount of\n",
    "        #           columns to be read. For all lines only read in this ammount.\n",
    "        #           All lines will be read\n",
    "        # 2. Robust: Only read in files that have an consisten layout throught\n",
    "        #            the file, i.e. every line has the same ammount of cols as\n",
    "        #            the header line. This will cause some line to be skipped\n",
    "        #Loose will be used by default\n",
    "        if read_in_type == 'Loose':\n",
    "            cols = pd.read_csv(file_, nrows=1).columns\n",
    "            df = pd.read_csv(file_, usecols=cols,index_col=None, header=0, parse_dates=['Date'])\n",
    "        elif read_in_type == 'Robust':\n",
    "            df = pd.read_csv(file_,index_col=None, header=0, error_bad_lines=False,parse_dates=['Date'])\n",
    "        #The files do not contain any reference to the season they are from\n",
    "        #therefore this is added for each file that is added to the list\n",
    "        #by using the path it is taken from\n",
    "        ind = file_.index('_')\n",
    "        df['season'] = file_[(ind-4):(ind+5)]\n",
    "        list_.append(df)\n",
    "    #Last step is to concatenate all files (allready in dataframe form)\n",
    "    frame = pd.concat(list_,ignore_index=True)\n",
    "    #Finally only the collumns specified will be kept in the overall dataframe\n",
    "    frame = frame[np.append(frame.columns.values[np.in1d(frame.columns.values,columns_to_include)],'season')]\n",
    "    return frame"
   ]
  },
  {
   "cell_type": "markdown",
   "metadata": {},
   "source": [
    "### Example All Eredivisie Data"
   ]
  },
  {
   "cell_type": "code",
   "execution_count": 44,
   "metadata": {
    "collapsed": false
   },
   "outputs": [
    {
     "name": "stdout",
     "output_type": "stream",
     "text": [
      "Data added from: ../Data\\1995_1996\\N1.csv\n",
      "Data added from: ../Data\\1996_1997\\N1.csv\n",
      "Data added from: ../Data\\1997_1998\\N1.csv\n",
      "Data added from: ../Data\\1998_1999\\N1.csv\n",
      "Data added from: ../Data\\1999_2000\\N1.csv\n",
      "Data added from: ../Data\\2000_2001\\N1.csv\n",
      "Data added from: ../Data\\2001_2002\\N1.csv\n",
      "Data added from: ../Data\\2002_2003\\N1.csv\n",
      "Data added from: ../Data\\2003_2004\\N1.csv\n",
      "Data added from: ../Data\\2004_2005\\N1.csv\n",
      "Data added from: ../Data\\2005_2006\\N1.csv\n",
      "Data added from: ../Data\\2006_2007\\N1.csv\n",
      "Data added from: ../Data\\2007_2008\\N1.csv\n",
      "Data added from: ../Data\\2008_2009\\N1.csv\n",
      "Data added from: ../Data\\2009_2010\\N1.csv\n",
      "Data added from: ../Data\\2010_2011\\N1.csv\n",
      "Data added from: ../Data\\2011_2012\\N1.csv\n",
      "Data added from: ../Data\\2012_2013\\N1.csv\n",
      "Data added from: ../Data\\2013_2014\\N1.csv\n",
      "Data added from: ../Data\\2014_2015\\N1.csv\n",
      "Data added from: ../Data\\2015_2016\\N1.csv\n",
      "Data added from: ../Data\\2016_2017\\N1.csv\n"
     ]
    }
   ],
   "source": [
    "data = read_data('N1',np.append(results_data,match_stats))"
   ]
  },
  {
   "cell_type": "markdown",
   "metadata": {},
   "source": [
    "### Some plots of the data just collected"
   ]
  },
  {
   "cell_type": "code",
   "execution_count": 46,
   "metadata": {
    "collapsed": false
   },
   "outputs": [
    {
     "data": {
      "text/plain": [
       "array(['AwayTeam', 'Date', 'FTAG', 'FTHG', 'FTR', 'HTAG', 'HTHG', 'HTR',\n",
       "       'HomeTeam', 'season'], dtype=object)"
      ]
     },
     "execution_count": 46,
     "metadata": {},
     "output_type": "execute_result"
    }
   ],
   "source": [
    "data.columns.values"
   ]
  },
  {
   "cell_type": "code",
   "execution_count": 64,
   "metadata": {
    "collapsed": false
   },
   "outputs": [
    {
     "data": {
      "text/plain": [
       "<matplotlib.text.Text at 0xe353390>"
      ]
     },
     "execution_count": 64,
     "metadata": {},
     "output_type": "execute_result"
    },
    {
     "data": {
      "image/png": "[encoded data removed]",
      "text/plain": [
       "<matplotlib.figure.Figure at 0xd5ab2e8>"
      ]
     },
     "metadata": {},
     "output_type": "display_data"
    }
   ],
   "source": [
    "data.groupby(['season']).agg({'season':{'Games':'count'}\n",
    "                             ,'FTHG':{'FT Home Goals':'sum'}\n",
    "                             ,'FTAG':{'FT Away Goals':'sum'}\n",
    "                             }).plot(figsize=(15,5))\n",
    "plt.title('Eredivisie')"
   ]
  },
  {
   "cell_type": "code",
   "execution_count": 66,
   "metadata": {
    "collapsed": false
   },
   "outputs": [
    {
     "data": {
      "text/plain": [
       "<matplotlib.text.Text at 0xe4b6eb8>"
      ]
     },
     "execution_count": 66,
     "metadata": {},
     "output_type": "execute_result"
    },
    {
     "data": {
      "image/png": "[encoded data removed]",
      "text/plain": [
       "<matplotlib.figure.Figure at 0xd5b6320>"
      ]
     },
     "metadata": {},
     "output_type": "display_data"
    }
   ],
   "source": [
    "(100*data.groupby('HTR')['HTR'].agg({'HTR':{'FT Result':'count'}})/len(data)).plot(kind='barh',figsize=(15,5))\n",
    "plt.xlabel('Percentage')"
   ]
  },
  {
   "cell_type": "code",
   "execution_count": 62,
   "metadata": {
    "collapsed": false
   },
   "outputs": [
    {
     "data": {
      "text/plain": [
       "Twente        361\n",
       "Utrecht       360\n",
       "Ajax          360\n",
       "Heerenveen    360\n",
       "Feyenoord     360\n",
       "Name: HomeTeam, dtype: int64"
      ]
     },
     "execution_count": 62,
     "metadata": {},
     "output_type": "execute_result"
    }
   ],
   "source": [
    "data.HomeTeam.value_counts().head(5)"
   ]
  }
 ],
 "metadata": {
  "anaconda-cloud": {},
  "kernelspec": {
   "display_name": "Python [Root]",
   "language": "python",
   "name": "Python [Root]"
  },
  "language_info": {
   "codemirror_mode": {
    "name": "ipython",
    "version": 2
   },
   "file_extension": ".py",
   "mimetype": "text/x-python",
   "name": "python",
   "nbconvert_exporter": "python",
   "pygments_lexer": "ipython2",
   "version": "2.7.12"
  }
 },
 "nbformat": 4,
 "nbformat_minor": 0
}
